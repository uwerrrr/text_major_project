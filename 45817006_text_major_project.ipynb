{
  "nbformat": 4,
  "nbformat_minor": 0,
  "metadata": {
    "colab": {
      "provenance": [],
      "collapsed_sections": [
        "VeAj9BvxrwKh",
        "GocBgeGN3EMq",
        "qqr1slE-v8vl",
        "EjyhnqtbuHgy",
        "AqrnszOsbPL2",
        "Xz2aY3h0-RB8",
        "y3frxHcF-uxA",
        "pvNhlg4iTqzS",
        "LSIJYc-TX0hu",
        "7ITbYby-8gFd",
        "5bGAczUOd_vh",
        "KSjjLIj0Zt8y",
        "Z5gM_vsjW88T",
        "RMd018-A-KpC",
        "Pwq6jYZIrGgU",
        "wZLFeg1eTSP3",
        "GFqsSZPrTZDL",
        "HFV-pT9xVant",
        "wMY3biLHn8Ae",
        "G0mcw7kqlApu"
      ],
      "toc_visible": true,
      "include_colab_link": true
    },
    "kernelspec": {
      "name": "python3",
      "display_name": "Python 3"
    },
    "accelerator": "GPU"
  },
  "cells": [
    {
      "cell_type": "markdown",
      "metadata": {
        "id": "view-in-github",
        "colab_type": "text"
      },
      "source": [
        "<a href=\"https://colab.research.google.com/github/uwerrrr/text_major_project/blob/main/45817006_text_major_project.ipynb\" target=\"_parent\"><img src=\"https://colab.research.google.com/assets/colab-badge.svg\" alt=\"Open In Colab\"/></a>"
      ]
    },
    {
      "cell_type": "markdown",
      "metadata": {
        "id": "n9BHxRrjZQEj"
      },
      "source": [
        "# Introduction\n",
        "\n",
        "This notebook is for the major project submission for COMP8220, on the **language** dataset and task.  It contains the following main sections:\n",
        "\n",
        "*   Preparation\n",
        "*   Data transformation\n",
        "*   Conventional ML models\n",
        "*   Deep learning models\n",
        "*   Discussion of Model Performance and Implementation\n",
        "\n",
        "\n",
        "**Note:**\n",
        "\n",
        "\n",
        "*   Each model section also contains observation part at the end which highlights my observation from the process of training the models.\n",
        "*   Since this notebook is lengthy, it is suggested to use table of content sidebar for better navigation.\n",
        "\n",
        "\n",
        "\n",
        "\n",
        "\n"
      ]
    },
    {
      "cell_type": "markdown",
      "metadata": {
        "id": "VeAj9BvxrwKh"
      },
      "source": [
        "# Preparation\n",
        "\n",
        "This section contains loading data into the notebook and some slight raw data exploration"
      ]
    },
    {
      "cell_type": "code",
      "source": [
        "from google.colab import drive\n",
        "drive.mount('/content/gdrive')"
      ],
      "metadata": {
        "colab": {
          "base_uri": "https://localhost:8080/"
        },
        "id": "dhIUlBiJeSjq",
        "outputId": "60d0eb4a-03b5-4c92-d8c2-877c244ccbbd"
      },
      "execution_count": null,
      "outputs": [
        {
          "output_type": "stream",
          "name": "stdout",
          "text": [
            "Mounted at /content/gdrive\n"
          ]
        }
      ]
    },
    {
      "cell_type": "code",
      "metadata": {
        "id": "pMaUgLJtr15X",
        "outputId": "f4fae8d8-ecd3-47e8-9bbc-205dc62511ff",
        "colab": {
          "base_uri": "https://localhost:8080/"
        }
      },
      "source": [
        "import os\n",
        "\n",
        "os.chdir('./gdrive/MyDrive/Colab Notebooks/Project/')\n",
        "\n"
      ],
      "execution_count": null,
      "outputs": [
        {
          "output_type": "execute_result",
          "data": {
            "text/plain": [
              "['45817006_text_major_project.ipynb',\n",
              " 'Project desc.pdf',\n",
              " ' Image Dataset Details.pdf',\n",
              " 'Language Dataset Desc.pdf',\n",
              " 'Code Snippets',\n",
              " 'datasets',\n",
              " '.ipynb_checkpoints',\n",
              " 'test',\n",
              " 'models',\n",
              " '45817006-conv.csv',\n",
              " 'glove.twitter.27B',\n",
              " 'text_code_stub.ipynb',\n",
              " 'model_3_2_best.h5',\n",
              " '45817006-private.csv',\n",
              " '45817006-deep.csv',\n",
              " 'sample-notebook-template.ipynb',\n",
              " 'Copy of 45817006_text_major_project.ipynb',\n",
              " 'best_model.h5']"
            ]
          },
          "metadata": {},
          "execution_count": 4
        }
      ]
    },
    {
      "cell_type": "code",
      "source": [
        "# imports\n",
        "import numpy as np\n",
        "import os\n",
        "import pickle\n",
        "import pandas as pd\n",
        "import matplotlib.pyplot as plt\n",
        "%matplotlib inline\n",
        "\n",
        "from sklearn.metrics import classification_report, confusion_matrix, accuracy_score\n",
        "from keras import backend\n",
        "\n",
        "import re\n",
        "import nltk\n",
        "from nltk.corpus import stopwords\n",
        "from nltk.tokenize import word_tokenize\n",
        "from nltk.stem.porter import *\n",
        "from sklearn.feature_extraction.text import TfidfVectorizer, CountVectorizer\n",
        "from sklearn.model_selection import train_test_split\n",
        "from sklearn.linear_model import LogisticRegression\n",
        "from sklearn.naive_bayes import MultinomialNB\n",
        "from sklearn.ensemble import RandomForestClassifier\n",
        "from sklearn.svm import LinearSVC\n",
        "\n",
        "import keras.optimizers\n",
        "from keras.utils import np_utils, to_categorical\n",
        "from keras.models import Sequential, load_model\n",
        "from keras.optimizers import Adadelta, Adam, RMSprop\n",
        "from keras.callbacks import EarlyStopping, ModelCheckpoint, ReduceLROnPlateau\n",
        "from keras.layers import Dense, Input, TimeDistributed, Dropout, Conv1D, MaxPooling1D\n",
        "from keras.layers import LSTM, SimpleRNN, Bidirectional, Masking, Activation, GRU\n",
        "from keras.layers import Flatten, BatchNormalization, Embedding\n",
        "from keras.preprocessing import sequence, text, sequence\n",
        "from keras.preprocessing.text import Tokenizer, one_hot\n",
        "from keras.utils import pad_sequences\n",
        "\n",
        "from tensorflow.keras import regularizers\n",
        "\n",
        "import fastai\n",
        "from fastai import *\n",
        "from fastai.text import *\n",
        "from functools import partial\n",
        "import io\n",
        "\n",
        "nltk.download('punkt')\n",
        "nltk.download('stopwords')\n"
      ],
      "metadata": {
        "colab": {
          "base_uri": "https://localhost:8080/"
        },
        "id": "BaB8QGdWfYeD",
        "outputId": "73d4e712-beac-4783-d12b-e87141dea424"
      },
      "execution_count": null,
      "outputs": [
        {
          "output_type": "stream",
          "name": "stderr",
          "text": [
            "[nltk_data] Downloading package punkt to /root/nltk_data...\n",
            "[nltk_data]   Unzipping tokenizers/punkt.zip.\n",
            "[nltk_data] Downloading package stopwords to /root/nltk_data...\n",
            "[nltk_data]   Unzipping corpora/stopwords.zip.\n"
          ]
        },
        {
          "output_type": "execute_result",
          "data": {
            "text/plain": [
              "True"
            ]
          },
          "metadata": {},
          "execution_count": 10
        }
      ]
    },
    {
      "cell_type": "markdown",
      "metadata": {
        "id": "4I1XD4gUUWsN"
      },
      "source": [
        "### Load data"
      ]
    },
    {
      "cell_type": "code",
      "metadata": {
        "id": "ZRVgtkPlUnuP",
        "colab": {
          "base_uri": "https://localhost:8080/"
        },
        "outputId": "2eb0a767-c028-4135-d7d1-4d5f20344c05"
      },
      "source": [
        "def load_pickle(path):\n",
        "    with open(path, 'rb') as f:\n",
        "        file = pickle.load(f)\n",
        "        print ('Loaded %s..' %path)\n",
        "        return file\n",
        "\n",
        "dataset_directory = 'datasets/text-data/'  ## CHANGE TO YOUR OWN DIRECTORY\n",
        "\n",
        "emotions = ['anger', 'fear', 'joy', 'sadness']\n",
        "\n",
        "tweets_train = np.load(join(dataset_directory, 'text_train_tweets.npy'))\n",
        "labels_train = np.load(join(dataset_directory, 'text_train_labels.npy'))\n",
        "vocabulary = load_pickle(join(dataset_directory, 'text_word_to_idx.pkl'))\n",
        "\n",
        "tweets_val = np.load(join(dataset_directory, 'text_val_tweets.npy'))\n",
        "labels_val = np.load(join(dataset_directory, 'text_val_labels.npy'))\n",
        "\n",
        "tweets_test_public = np.load(join(dataset_directory, 'text_test_public_tweets_rand.npy'))\n",
        "tweets_test_private = np.load(join(dataset_directory, 'text_test_private_tweets.npy'))\n",
        "\n",
        "print(len(vocabulary))\n",
        "idx_to_word = {i: w for w, i in vocabulary.items()}\n",
        "for i in range(7):\n",
        "  print(i, idx_to_word[i])\n",
        "\n",
        "sample = 4  ## YOU CAN TRY OUT OTHER TWEETS\n",
        "\n",
        "print('sample tweet, stored form:')\n",
        "print(tweets_train[sample])\n",
        "print(labels_train[sample])\n",
        "\n",
        "print('sample tweet, readable form:')\n",
        "decode = []\n",
        "for i in range(50):\n",
        "  decode.append(idx_to_word[tweets_train[sample][i]])\n",
        "print(decode)\n",
        "print(emotions[labels_train[sample]])\n",
        "\n",
        "\n",
        "print('shape of tweets_train:', tweets_train.shape)\n",
        "print('shape of labels_train:',labels_train.shape)\n",
        "print('shape of tweets_val:',tweets_val.shape)\n",
        "print('shape of labels_val:',labels_val.shape)\n",
        "print('shape of tweets_test_public:',tweets_test_public.shape)\n",
        "print('shape of tweets_test_private:',tweets_test_private.shape)\n",
        "\n"
      ],
      "execution_count": null,
      "outputs": [
        {
          "output_type": "stream",
          "name": "stdout",
          "text": [
            "Loaded datasets/text-data/text_word_to_idx.pkl..\n",
            "13978\n",
            "0 <NULL>\n",
            "1 <START>\n",
            "2 <END>\n",
            "3 it\n",
            "4 makes\n",
            "5 me\n",
            "6 so\n",
            "sample tweet, stored form:\n",
            "[ 1 57 74 36 75 76 77 78 29 79 47 80 81 77 82 29 38 36 83 84 85 77 86  2\n",
            "  0  0  0  0  0  0  0  0  0  0  0  0  0  0  0  0  0  0  0  0  0  0  0  0\n",
            "  0  0  0  0]\n",
            "0\n",
            "sample tweet, readable form:\n",
            "['<START>', 'i', 'need', 'a', '🍱', 'sushi', 'date', '🍙', '<user>', '🍝', 'an', 'olive', 'guarded', 'date', '🧀', '<user>', 'and', 'a', '👊', '🏼', 'rockys', 'date', '🍕', '<END>', '<NULL>', '<NULL>', '<NULL>', '<NULL>', '<NULL>', '<NULL>', '<NULL>', '<NULL>', '<NULL>', '<NULL>', '<NULL>', '<NULL>', '<NULL>', '<NULL>', '<NULL>', '<NULL>', '<NULL>', '<NULL>', '<NULL>', '<NULL>', '<NULL>', '<NULL>', '<NULL>', '<NULL>', '<NULL>', '<NULL>']\n",
            "anger\n",
            "shape of tweets_train: (7098, 52)\n",
            "shape of labels_train: (7098,)\n",
            "shape of tweets_val: (1460, 52)\n",
            "shape of labels_val: (1460,)\n",
            "shape of tweets_test_public: (4064, 52)\n",
            "shape of tweets_test_private: (4257, 52)\n"
          ]
        }
      ]
    },
    {
      "cell_type": "markdown",
      "metadata": {
        "id": "oopVdFk0dFVm"
      },
      "source": [
        "## Data exploration"
      ]
    },
    {
      "cell_type": "code",
      "metadata": {
        "id": "Ga1VqoQnkCLp"
      },
      "source": [
        "# transform to dataframe\n",
        "df_labels_train = pd.DataFrame(labels_train)\n",
        "df_labels_train.columns = ['labels']\n",
        "\n",
        "# add emotion to df\n",
        "emotion_labels = []\n",
        "for i in df_labels_train.index:\n",
        "  emotion_labels.append(emotions[labels_train[i]])\n",
        "\n",
        "df_labels_train[\"emotions\"] = emotion_labels"
      ],
      "execution_count": null,
      "outputs": []
    },
    {
      "cell_type": "markdown",
      "metadata": {
        "id": "hiXNLTsQlRIi"
      },
      "source": [
        "**Plot train data**"
      ]
    },
    {
      "cell_type": "code",
      "metadata": {
        "id": "S3dxJXE7iy_Z",
        "colab": {
          "base_uri": "https://localhost:8080/",
          "height": 424
        },
        "outputId": "cc22bd27-670c-4d40-a840-661909ab7e4f"
      },
      "source": [
        "df_labels_train.emotions.value_counts().plot(kind='pie', autopct='%1.0f%%',\n",
        "                                         colors=[\"red\", \"yellow\", \"green\",\"blue\"])\n",
        "\n",
        "print(emotions)"
      ],
      "execution_count": null,
      "outputs": [
        {
          "output_type": "stream",
          "name": "stdout",
          "text": [
            "['anger', 'fear', 'joy', 'sadness']\n"
          ]
        },
        {
          "output_type": "display_data",
          "data": {
            "text/plain": [
              "<Figure size 640x480 with 1 Axes>"
            ],
            "image/png": "[encoded data removed]"
          },
          "metadata": {}
        }
      ]
    },
    {
      "cell_type": "code",
      "metadata": {
        "id": "YA0Y9R4RH4_B",
        "colab": {
          "base_uri": "https://localhost:8080/"
        },
        "outputId": "574f755a-5f19-4c25-f330-9980361318ec"
      },
      "source": [
        "print('counts of 4 labels: ')\n",
        "df_labels_train.labels.value_counts()"
      ],
      "execution_count": null,
      "outputs": [
        {
          "output_type": "stream",
          "name": "stdout",
          "text": [
            "counts of 4 labels: \n"
          ]
        },
        {
          "output_type": "execute_result",
          "data": {
            "text/plain": [
              "1    2251\n",
              "0    1700\n",
              "2    1615\n",
              "3    1532\n",
              "Name: labels, dtype: int64"
            ]
          },
          "metadata": {},
          "execution_count": 14
        }
      ]
    },
    {
      "cell_type": "markdown",
      "metadata": {
        "id": "sPeVQZXDDbnV"
      },
      "source": [
        "-> Beside the fact that the number of *fear* tweet is higher than other emotions roughly 10%, the data is not very imbalanced."
      ]
    },
    {
      "cell_type": "markdown",
      "metadata": {
        "id": "gmyOBlTJ3fF7"
      },
      "source": [
        "**Checking the distribution of training set**"
      ]
    },
    {
      "cell_type": "code",
      "metadata": {
        "id": "T7sy-HIu3su4",
        "colab": {
          "base_uri": "https://localhost:8080/"
        },
        "outputId": "e25206d0-5492-4def-bfc0-418829fd7d84"
      },
      "source": [
        "print(\"labels of the first 10 sentences: \",labels_train[:10])\n",
        "print(\"labels of the last 10 sentences: \",labels_train[len(labels_train)-10:len(labels_train)])"
      ],
      "execution_count": null,
      "outputs": [
        {
          "output_type": "stream",
          "name": "stdout",
          "text": [
            "labels of the first 10 sentences:  [0 0 0 0 0 0 0 0 0 0]\n",
            "labels of the last 10 sentences:  [3 3 3 3 3 3 3 3 3 3]\n"
          ]
        }
      ]
    },
    {
      "cell_type": "markdown",
      "metadata": {
        "id": "3q2bJ1tb5dcB"
      },
      "source": [
        "=> It is clearly that the training data is **sorted** and **not random**"
      ]
    },
    {
      "cell_type": "markdown",
      "metadata": {
        "id": "Ixx6W4UsfE1t"
      },
      "source": [
        "---\n",
        "# Transformation\n",
        "\n",
        "According to the previous data exploration, the raw data is not random. Therefore, I decided to merge the raw data and split them into new train and validataion sets.\n",
        "\n",
        "This section also contains text converting and cleaning process.\n",
        "Because the given data still contains special characteristics such as emojis and `<words>`, I choose to convert the given data to text and remove all special characteristics and `<words>`.\n",
        "\n",
        "\n"
      ]
    },
    {
      "cell_type": "code",
      "metadata": {
        "id": "9pBUMl_nBZPu"
      },
      "source": [
        "random_state = 42"
      ],
      "execution_count": null,
      "outputs": []
    },
    {
      "cell_type": "markdown",
      "metadata": {
        "id": "-ZtucaNnBF4s"
      },
      "source": [
        "### Merge and split train and validation sets"
      ]
    },
    {
      "cell_type": "code",
      "metadata": {
        "id": "TD78Zr-sIHW3"
      },
      "source": [
        "tweets_new = np.concatenate((tweets_train, tweets_val))\n",
        "labels_new = np.concatenate((labels_train, labels_val))\n",
        "tweets_train_new, tweets_val_new, labels_train_new, labels_val_new = train_test_split(tweets_new, labels_new, test_size=0.15, random_state = random_state)"
      ],
      "execution_count": null,
      "outputs": []
    },
    {
      "cell_type": "code",
      "metadata": {
        "id": "LDkSpbaPA7P_",
        "colab": {
          "base_uri": "https://localhost:8080/"
        },
        "outputId": "d876db40-5e2a-4757-c133-9613b229028b"
      },
      "source": [
        "print(\"labels of the first 10 sentences: \",labels_train_new[:10])\n",
        "print(\"labels of the last 10 sentences: \",labels_train_new[len(labels_train_new)-10:len(labels_train_new)])\n",
        "print(\"shape of labels_train_new:\",labels_train_new.shape)\n",
        "print(\"shape of tweets_train_new:\",tweets_train_new.shape)\n",
        "print('The first 10 sentences:')\n",
        "tweets_train_new[:10]"
      ],
      "execution_count": null,
      "outputs": [
        {
          "output_type": "stream",
          "name": "stdout",
          "text": [
            "labels of the first 10 sentences:  [0 1 0 0 1 2 3 2 2 3]\n",
            "labels of the last 10 sentences:  [3 3 2 0 3 3 2 2 0 0]\n",
            "shape of labels_train_new: (7274,)\n",
            "shape of tweets_train_new: (7274, 52)\n",
            "The first 10 sentences:\n"
          ]
        },
        {
          "output_type": "execute_result",
          "data": {
            "text/plain": [
              "array([[    1,    29,    57,  1260,  1261,   997,   998,    97,   460,\n",
              "         1262,     2,     0,     0,     0,     0,     0,     0,     0,\n",
              "            0,     0,     0,     0,     0,     0,     0,     0,     0,\n",
              "            0,     0,     0,     0,     0,     0,     0,     0,     0,\n",
              "            0,     0,     0,     0,     0,     0,     0,     0,     0,\n",
              "            0,     0,     0,     0,     0,     0,     0],\n",
              "       [    1,    64,    93,    36,   944,   532,   406,     2,     0,\n",
              "            0,     0,     0,     0,     0,     0,     0,     0,     0,\n",
              "            0,     0,     0,     0,     0,     0,     0,     0,     0,\n",
              "            0,     0,     0,     0,     0,     0,     0,     0,     0,\n",
              "            0,     0,     0,     0,     0,     0,     0,     0,     0,\n",
              "            0,     0,     0,     0,     0,     0,     0],\n",
              "       [    1,   371,   205,   896,    20,   458,    51,  3024,  3025,\n",
              "          122,   877,    26,   739,  3026,    35,    20,   733,    19,\n",
              "           36,  3027,    50,  3028,   113,   115,    36,  1441,   115,\n",
              "            2,     0,     0,     0,     0,     0,     0,     0,     0,\n",
              "            0,     0,     0,     0,     0,     0,     0,     0,     0,\n",
              "            0,     0,     0,     0,     0,     0,     0],\n",
              "       [    1,    29,    29,   126,  3636,    94,   132,   478,    47,\n",
              "         5304,  3032,  4156,     2,     0,     0,     0,     0,     0,\n",
              "            0,     0,     0,     0,     0,     0,     0,     0,     0,\n",
              "            0,     0,     0,     0,     0,     0,     0,     0,     0,\n",
              "            0,     0,     0,     0,     0,     0,     0,     0,     0,\n",
              "            0,     0,     0,     0,     0,     0,     0],\n",
              "       [    1,    29,  3794,  2044,  8988,    94,    36,  8911,    35,\n",
              "           20,  6362,  2862,  8989,   322,  1227,   621,    46,   322,\n",
              "         1227,  8990,  8991,     2,     0,     0,     0,     0,     0,\n",
              "            0,     0,     0,     0,     0,     0,     0,     0,     0,\n",
              "            0,     0,     0,     0,     0,     0,     0,     0,     0,\n",
              "            0,     0,     0,     0,     0,     0,     0],\n",
              "       [    1,  1178,   252,   205,   519,  9351,    38,  8752,  9352,\n",
              "          408,    11,  9353,  1182,  4438,  9354,  9355,     2,     0,\n",
              "            0,     0,     0,     0,     0,     0,     0,     0,     0,\n",
              "            0,     0,     0,     0,     0,     0,     0,     0,     0,\n",
              "            0,     0,     0,     0,     0,     0,     0,     0,     0,\n",
              "            0,     0,     0,     0,     0,     0,     0],\n",
              "       [    1,  5267, 12322,  1983,   534,   192,     6, 12323,     2,\n",
              "            0,     0,     0,     0,     0,     0,     0,     0,     0,\n",
              "            0,     0,     0,     0,     0,     0,     0,     0,     0,\n",
              "            0,     0,     0,     0,     0,     0,     0,     0,     0,\n",
              "            0,     0,     0,     0,     0,     0,     0,     0,     0,\n",
              "            0,     0,     0,     0,     0,     0,     0],\n",
              "       [    1,    20,   776,   730,   115,    33,   173,     9,    11,\n",
              "          132,  9389,   140,    35,   215,  9390,   786,    35,   215,\n",
              "          456,    38,   436,    64,   251,     5,   914,  5927,  9391,\n",
              "         7721,     2,     0,     0,     0,     0,     0,     0,     0,\n",
              "            0,     0,     0,     0,     0,     0,     0,     0,     0,\n",
              "            0,     0,     0,     0,     0,     0,     0],\n",
              "       [    1,   419,    64,   250,    74,   132,   797,    36,  6083,\n",
              "         1399,   115,  7484,   132,  2658,  3357,    51,   432,    52,\n",
              "           53,   330,    74,   132,   142,   516, 10926,     2,     0,\n",
              "            0,     0,     0,     0,     0,     0,     0,     0,     0,\n",
              "            0,     0,     0,     0,     0,     0,     0,     0,     0,\n",
              "            0,     0,     0,     0,     0,     0,     0],\n",
              "       [    1,    29,    29,   200, 11827,   102,    36,  3365,  5870,\n",
              "          118,    20,  2757,    38,    20,   748,    44,   631,   907,\n",
              "         1544,   182,   663,   132,   702,  4945,   122,  2103,  2115,\n",
              "         3302,     2,     0,     0,     0,     0,     0,     0,     0,\n",
              "            0,     0,     0,     0,     0,     0,     0,     0,     0,\n",
              "            0,     0,     0,     0,     0,     0,     0]], dtype=int32)"
            ]
          },
          "metadata": {},
          "execution_count": 18
        }
      ]
    },
    {
      "cell_type": "markdown",
      "metadata": {
        "id": "HVWfaPmcVpGy"
      },
      "source": [
        "#### Check data balance\n"
      ]
    },
    {
      "cell_type": "code",
      "metadata": {
        "id": "nfZz67TQVpG0"
      },
      "source": [
        "# transform to dataframe\n",
        "df_labels_train_new = pd.DataFrame(labels_train_new)\n",
        "df_labels_train_new.columns = ['labels']\n",
        "\n",
        "# add emotion to df\n",
        "emotion_labels = []\n",
        "for i in df_labels_train_new.index:\n",
        "  emotion_labels.append(emotions[labels_train_new[i]])\n",
        "\n",
        "df_labels_train_new[\"emotions\"] = emotion_labels"
      ],
      "execution_count": null,
      "outputs": []
    },
    {
      "cell_type": "markdown",
      "metadata": {
        "id": "49pX6P2bVpG5"
      },
      "source": [
        "**Plot train data**"
      ]
    },
    {
      "cell_type": "code",
      "metadata": {
        "id": "uNQmS72VVpG5",
        "colab": {
          "base_uri": "https://localhost:8080/",
          "height": 72
        },
        "outputId": "62820770-2c6f-4b0b-9f03-cf8b6d36e508"
      },
      "source": [
        "df_labels_train_new.emotions.value_counts().plot(kind='pie', autopct='%1.0f%%',\n",
        "                                         colors=[\"red\", \"yellow\", \"green\",\"blue\"])\n",
        "\n",
        "print(emotions)"
      ],
      "execution_count": null,
      "outputs": [
        {
          "output_type": "stream",
          "name": "stdout",
          "text": [
            "['anger', 'fear', 'joy', 'sadness']\n"
          ]
        },
        {
          "output_type": "display_data",
          "data": {
            "text/plain": [
              "<Figure size 640x480 with 1 Axes>"
            ],
            "image/png": "[encoded data removed]"
          },
          "metadata": {}
        }
      ]
    },
    {
      "cell_type": "code",
      "metadata": {
        "id": "ktG2lrz2VpG7",
        "colab": {
          "base_uri": "https://localhost:8080/"
        },
        "outputId": "0f3706fb-822a-4a06-b0a0-8bfb5c3737e8"
      },
      "source": [
        "print('counts of 4 labels: ')\n",
        "df_labels_train_new.labels.value_counts()"
      ],
      "execution_count": null,
      "outputs": [
        {
          "output_type": "stream",
          "name": "stdout",
          "text": [
            "counts of 4 labels: \n"
          ]
        },
        {
          "output_type": "execute_result",
          "data": {
            "text/plain": [
              "1    2270\n",
              "0    1758\n",
              "3    1625\n",
              "2    1621\n",
              "Name: labels, dtype: int64"
            ]
          },
          "metadata": {},
          "execution_count": 21
        }
      ]
    },
    {
      "cell_type": "code",
      "metadata": {
        "id": "Kwdi0agdW51d",
        "colab": {
          "base_uri": "https://localhost:8080/"
        },
        "outputId": "36134107-438e-447e-d1c8-ba5e92dbbf5e"
      },
      "source": [
        "print(\"labels of the first 10 sentences: \",labels_train_new[:10])\n",
        "print(\"labels of the last 10 sentences: \",labels_train_new[len(labels_train_new)-10:len(labels_train_new)])"
      ],
      "execution_count": null,
      "outputs": [
        {
          "output_type": "stream",
          "name": "stdout",
          "text": [
            "labels of the first 10 sentences:  [0 1 0 0 1 2 3 2 2 3]\n",
            "labels of the last 10 sentences:  [3 3 2 0 3 3 2 2 0 0]\n"
          ]
        }
      ]
    },
    {
      "cell_type": "markdown",
      "metadata": {
        "id": "2LiFs3BbVpG9"
      },
      "source": [
        "#### Observation\n",
        "\n",
        "After merging and splitting, new data shows same degree of balance as the original data.\n",
        "\n",
        "The new data also shows randomness."
      ]
    },
    {
      "cell_type": "markdown",
      "metadata": {
        "id": "PifO3dBRgvhZ"
      },
      "source": [
        "### Converting to text\n",
        "\n",
        "Convert all data set to list containing sentences"
      ]
    },
    {
      "cell_type": "code",
      "metadata": {
        "id": "7dOAXD6SxDn6"
      },
      "source": [
        "# function to convert a set to text\n",
        "def convert_to_text(set):\n",
        "  texts = []\n",
        "  idx = len(set)\n",
        "  vocab_list = list(vocabulary.keys())\n",
        "  for i_t in range(idx):\n",
        "    decode = []\n",
        "    c_t = set[i_t]\n",
        "    for w in range(52):\n",
        "      if c_t[w] > 2: #or c_t[w]==0:      # not include <START> and <END> tags\n",
        "        decode.append(vocab_list[c_t[w]])\n",
        "    texts.append(decode)\n",
        "  # texts=np.array(texts)\n",
        "  # texts=np.array([np.array(xi) for xi in texts])\n",
        "\n",
        "  # return texts\n",
        "\n",
        "  text_set =[]\n",
        "  for i in range(len(texts)):\n",
        "    sen = ' '.join(word for word in texts[i])\n",
        "    text_set.append(sen)\n",
        "\n",
        "  return text_set"
      ],
      "execution_count": null,
      "outputs": []
    },
    {
      "cell_type": "code",
      "metadata": {
        "id": "OafjHn8T-nJW"
      },
      "source": [
        "tweets_train_t = convert_to_text(tweets_train_new)\n",
        "tweets_val_t = convert_to_text(tweets_val_new)\n",
        "tweets_test_public_t = convert_to_text(tweets_test_public)\n",
        "tweets_test_private_t = convert_to_text(tweets_test_private)"
      ],
      "execution_count": null,
      "outputs": []
    },
    {
      "cell_type": "code",
      "metadata": {
        "id": "loCXAJcz5bf0",
        "colab": {
          "base_uri": "https://localhost:8080/"
        },
        "outputId": "7c7c1c73-4fb0-4235-ef6c-5de6b4f7e09b"
      },
      "source": [
        "print('type of tweets_train_t:', type(tweets_train_t[:5]))\n",
        "print('The first 10 sentences:')\n",
        "tweets_train_t[:10]"
      ],
      "execution_count": null,
      "outputs": [
        {
          "output_type": "stream",
          "name": "stdout",
          "text": [
            "type of tweets_train_t: <class 'list'>\n",
            "The first 10 sentences:\n"
          ]
        },
        {
          "output_type": "execute_result",
          "data": {
            "text/plain": [
              "['<user> i accidetly dumped boiling water my myself 😫',\n",
              " 'you are a terrible time 😂',\n",
              " 'did we miss the fact that #burkeramsey swung & hit his sister #jonbenet in the face with a golf club previously out of a fit of',\n",
              " '<user> <user> very heading not to mention an agenda driven article',\n",
              " '<user> horrible service ewr not a cloud in the sky normal departure at <time> now leaving at <time> crappy #unitedairlines',\n",
              " '“ when we give cheerfully and accept gratefully everyone is blessed ” ― maya angelou',\n",
              " 'ffs clan seriously never been so disheartened',\n",
              " 'the best part of this day jesus is to snuggle up in your embraceto rest in your arms and know you love me 💙 ❤ #sweetembrace #delight',\n",
              " \"sometimes you just need to eat a delicious piece of chocolate to remind yourself that there ' s no need to be bitter sweetness\",\n",
              " '<user> <user> trump presidency - a dark age for the usa and the world he would most definitely take us to war short & long term pain']"
            ]
          },
          "metadata": {},
          "execution_count": 25
        }
      ]
    },
    {
      "cell_type": "markdown",
      "metadata": {
        "id": "OwAvyhmrhQLb"
      },
      "source": [
        "### Cleaning text sets"
      ]
    },
    {
      "cell_type": "code",
      "metadata": {
        "id": "H6Ods91-gW2o"
      },
      "source": [
        "# Function to remove all the special characters\n",
        "import string\n",
        "\n",
        "def clean(set):\n",
        "  processed_features = []\n",
        "\n",
        "\n",
        "  for sentence in range(0, len(set)):\n",
        "\n",
        "\n",
        "    # remove <words>\n",
        "    processed_feature = re.sub(r'<[a-zA-Z0-9]+>', ' ', str(set[sentence]))\n",
        "\n",
        "    # Remove all the special characters\n",
        "    processed_feature = re.sub(r'\\W', ' ', processed_feature)\n",
        "\n",
        "    # remove some special characters\n",
        "    processed_feature = re.sub(r\"[!#$%•&\\'()*+,-./:;=?“”_^\\\\`{|}~]\", \" \", processed_feature)\n",
        "\n",
        "    # remove all single characters\n",
        "    processed_feature = re.sub(r'\\s+[a-zA-Z]\\s+', ' ', processed_feature)\n",
        "\n",
        "    # Remove single characters from the start\n",
        "    processed_feature = re.sub(r'\\^[a-zA-Z]\\s+', ' ', processed_feature)\n",
        "\n",
        "    # Substituting multiple spaces with single space\n",
        "    processed_feature = re.sub(r'\\s+', ' ', processed_feature, flags=re.I)\n",
        "\n",
        "    # Converting to Lowercase\n",
        "    processed_feature = processed_feature.lower()\n",
        "\n",
        "    processed_features.append(processed_feature)\n",
        "\n",
        "  return processed_features"
      ],
      "execution_count": null,
      "outputs": []
    },
    {
      "cell_type": "code",
      "metadata": {
        "id": "wtb8xjYHieJ6"
      },
      "source": [
        "processed_tweets_train_t = clean(tweets_train_t)\n",
        "processed_tweets_val_t = clean(tweets_val_t)\n",
        "processed_tweets_test_public_t = clean(tweets_test_public_t)\n",
        "processed_tweets_test_private_t = clean(tweets_test_private_t)"
      ],
      "execution_count": null,
      "outputs": []
    },
    {
      "cell_type": "code",
      "metadata": {
        "id": "wx2lsMDw6-U-",
        "colab": {
          "base_uri": "https://localhost:8080/"
        },
        "outputId": "d6ec6677-8772-41c1-95ed-b931f28a7141"
      },
      "source": [
        "print('type of tweets_train_t:', type(processed_tweets_train_t[:5]))\n",
        "print('The first 10 sentences:')\n",
        "processed_tweets_train_t[:10]"
      ],
      "execution_count": null,
      "outputs": [
        {
          "output_type": "stream",
          "name": "stdout",
          "text": [
            "type of tweets_train_t: <class 'list'>\n",
            "The first 10 sentences:\n"
          ]
        },
        {
          "output_type": "execute_result",
          "data": {
            "text/plain": [
              "[' accidetly dumped boiling water my myself ',\n",
              " 'you are terrible time ',\n",
              " 'did we miss the fact that burkeramsey swung hit his sister jonbenet in the face with golf club previously out of fit of',\n",
              " ' very heading not to mention an agenda driven article',\n",
              " ' horrible service ewr not cloud in the sky normal departure at now leaving at crappy unitedairlines',\n",
              " ' when we give cheerfully and accept gratefully everyone is blessed maya angelou',\n",
              " 'ffs clan seriously never been so disheartened',\n",
              " 'the best part of this day jesus is to snuggle up in your embraceto rest in your arms and know you love me sweetembrace delight',\n",
              " 'sometimes you just need to eat delicious piece of chocolate to remind yourself that there no need to be bitter sweetness',\n",
              " ' trump presidency dark age for the usa and the world he would most definitely take us to war short long term pain']"
            ]
          },
          "metadata": {},
          "execution_count": 28
        }
      ]
    },
    {
      "cell_type": "markdown",
      "metadata": {
        "id": "ZDin5RVGbVm4"
      },
      "source": [
        "---\n",
        "# Conventional machine learning\n",
        "\n",
        "For conventional machine learning, I will use TF.IDF method to vectorize the cleaned texts before feeding them to the models.\n",
        "\n",
        "I choose 4 conventional models to compare their efficiency.\n",
        "\n",
        "1.   Naive Bayes Classifier\n",
        "2.   Random Forest Classifier\n",
        "3.   Logistic Regression model\n",
        "4.   LinearSVC model\n",
        "\n",
        "\n"
      ]
    },
    {
      "cell_type": "markdown",
      "metadata": {
        "id": "GocBgeGN3EMq"
      },
      "source": [
        "### TF.IDF - vectorzing text data"
      ]
    },
    {
      "cell_type": "code",
      "metadata": {
        "id": "zexrxtXojji7"
      },
      "source": [
        "vectorizer = TfidfVectorizer (\n",
        "                              stop_words=stopwords.words('english')\n",
        "                              )"
      ],
      "execution_count": null,
      "outputs": []
    },
    {
      "cell_type": "code",
      "metadata": {
        "id": "CxGEqB2gkD4g"
      },
      "source": [
        "tfidf_tweets_train = vectorizer.fit_transform(processed_tweets_train_t).toarray()\n",
        "tfidf_tweets_val = vectorizer.transform(processed_tweets_val_t).toarray()\n",
        "tfidf_tweets_test_public = vectorizer.transform(processed_tweets_test_public_t).toarray()\n",
        "tfidf_tweets_test_private = vectorizer.transform(processed_tweets_test_private_t).toarray()"
      ],
      "execution_count": null,
      "outputs": []
    },
    {
      "cell_type": "code",
      "metadata": {
        "id": "Tah01n4TFS5Y",
        "colab": {
          "base_uri": "https://localhost:8080/"
        },
        "outputId": "31bdbb80-c688-4ef9-e725-e8d96f6f7478"
      },
      "source": [
        "print('shape of tfidf_tweets_train:', tfidf_tweets_train.shape)"
      ],
      "execution_count": null,
      "outputs": [
        {
          "output_type": "stream",
          "name": "stdout",
          "text": [
            "shape of tfidf_tweets_train: (7274, 11481)\n"
          ]
        }
      ]
    },
    {
      "cell_type": "markdown",
      "metadata": {
        "id": "qqr1slE-v8vl"
      },
      "source": [
        "## Variables"
      ]
    },
    {
      "cell_type": "code",
      "metadata": {
        "id": "DRnEHtIWwBYY"
      },
      "source": [
        "X_train = tfidf_tweets_train\n",
        "y_train = labels_train_new\n",
        "\n",
        "X_val = tfidf_tweets_val\n",
        "y_val = labels_val_new\n",
        "\n",
        "X_test = tfidf_tweets_test_public\n",
        "# X_test = tfidf_tweets_test_private"
      ],
      "execution_count": null,
      "outputs": []
    },
    {
      "cell_type": "code",
      "metadata": {
        "id": "afQpVIct8c3x",
        "colab": {
          "base_uri": "https://localhost:8080/"
        },
        "outputId": "303180c5-5730-4dcd-d255-613cbf42c1b3"
      },
      "source": [
        "print(\"The first 10 X_train: \\n\",X_train[:10])\n",
        "print(\"\\n The first 10 labels: \\n\",y_train[:10])"
      ],
      "execution_count": null,
      "outputs": [
        {
          "output_type": "stream",
          "name": "stdout",
          "text": [
            "The first 10 X_train: \n",
            " [[0. 0. 0. ... 0. 0. 0.]\n",
            " [0. 0. 0. ... 0. 0. 0.]\n",
            " [0. 0. 0. ... 0. 0. 0.]\n",
            " ...\n",
            " [0. 0. 0. ... 0. 0. 0.]\n",
            " [0. 0. 0. ... 0. 0. 0.]\n",
            " [0. 0. 0. ... 0. 0. 0.]]\n",
            "\n",
            " The first 10 labels: \n",
            " [0 1 0 0 1 2 3 2 2 3]\n"
          ]
        }
      ]
    },
    {
      "cell_type": "code",
      "metadata": {
        "id": "fbLKgjmP3q7R",
        "colab": {
          "base_uri": "https://localhost:8080/"
        },
        "outputId": "81f4c6dd-242c-4e9e-e44f-f9b06104d239"
      },
      "source": [
        "print(\"shape of X_train:\", X_train.shape)\n",
        "print(\"shape of y_train:\",y_train.shape)\n",
        "print(\"shape of X_val:\",X_val.shape)\n",
        "print(\"shape of y_val:\",y_val.shape)\n",
        "print(\"shape of X_test:\",X_test.shape)"
      ],
      "execution_count": null,
      "outputs": [
        {
          "output_type": "stream",
          "name": "stdout",
          "text": [
            "shape of X_train: (7274, 11481)\n",
            "shape of y_train: (7274,)\n",
            "shape of X_val: (1284, 11481)\n",
            "shape of y_val: (1284,)\n",
            "shape of X_test: (4064, 11481)\n"
          ]
        }
      ]
    },
    {
      "cell_type": "markdown",
      "metadata": {
        "id": "EjyhnqtbuHgy"
      },
      "source": [
        "## Naive Bayes Classifier"
      ]
    },
    {
      "cell_type": "code",
      "metadata": {
        "id": "MytJgscpuJA7",
        "colab": {
          "base_uri": "https://localhost:8080/",
          "height": 76
        },
        "outputId": "eee62904-1b11-44fe-a580-7e58aa518371"
      },
      "source": [
        "# train model\n",
        "nb_clf = MultinomialNB()\n",
        "\n",
        "nb_clf.fit(X_train, y_train)"
      ],
      "execution_count": null,
      "outputs": [
        {
          "output_type": "execute_result",
          "data": {
            "text/plain": [
              "MultinomialNB()"
            ],
            "text/html": [
              "<style>#sk-container-id-1 {color: black;background-color: white;}#sk-container-id-1 pre{padding: 0;}#sk-container-id-1 div.sk-toggleable {background-color: white;}#sk-container-id-1 label.sk-toggleable__label {cursor: pointer;display: block;width: 100%;margin-bottom: 0;padding: 0.3em;box-sizing: border-box;text-align: center;}#sk-container-id-1 label.sk-toggleable__label-arrow:before {content: \"▸\";float: left;margin-right: 0.25em;color: #696969;}#sk-container-id-1 label.sk-toggleable__label-arrow:hover:before {color: black;}#sk-container-id-1 div.sk-estimator:hover label.sk-toggleable__label-arrow:before {color: black;}#sk-container-id-1 div.sk-toggleable__content {max-height: 0;max-width: 0;overflow: hidden;text-align: left;background-color: #f0f8ff;}#sk-container-id-1 div.sk-toggleable__content pre {margin: 0.2em;color: black;border-radius: 0.25em;background-color: #f0f8ff;}#sk-container-id-1 input.sk-toggleable__control:checked~div.sk-toggleable__content {max-height: 200px;max-width: 100%;overflow: auto;}#sk-container-id-1 input.sk-toggleable__control:checked~label.sk-toggleable__label-arrow:before {content: \"▾\";}#sk-container-id-1 div.sk-estimator input.sk-toggleable__control:checked~label.sk-toggleable__label {background-color: #d4ebff;}#sk-container-id-1 div.sk-label input.sk-toggleable__control:checked~label.sk-toggleable__label {background-color: #d4ebff;}#sk-container-id-1 input.sk-hidden--visually {border: 0;clip: rect(1px 1px 1px 1px);clip: rect(1px, 1px, 1px, 1px);height: 1px;margin: -1px;overflow: hidden;padding: 0;position: absolute;width: 1px;}#sk-container-id-1 div.sk-estimator {font-family: monospace;background-color: #f0f8ff;border: 1px dotted black;border-radius: 0.25em;box-sizing: border-box;margin-bottom: 0.5em;}#sk-container-id-1 div.sk-estimator:hover {background-color: #d4ebff;}#sk-container-id-1 div.sk-parallel-item::after {content: \"\";width: 100%;border-bottom: 1px solid gray;flex-grow: 1;}#sk-container-id-1 div.sk-label:hover label.sk-toggleable__label {background-color: #d4ebff;}#sk-container-id-1 div.sk-serial::before {content: \"\";position: absolute;border-left: 1px solid gray;box-sizing: border-box;top: 0;bottom: 0;left: 50%;z-index: 0;}#sk-container-id-1 div.sk-serial {display: flex;flex-direction: column;align-items: center;background-color: white;padding-right: 0.2em;padding-left: 0.2em;position: relative;}#sk-container-id-1 div.sk-item {position: relative;z-index: 1;}#sk-container-id-1 div.sk-parallel {display: flex;align-items: stretch;justify-content: center;background-color: white;position: relative;}#sk-container-id-1 div.sk-item::before, #sk-container-id-1 div.sk-parallel-item::before {content: \"\";position: absolute;border-left: 1px solid gray;box-sizing: border-box;top: 0;bottom: 0;left: 50%;z-index: -1;}#sk-container-id-1 div.sk-parallel-item {display: flex;flex-direction: column;z-index: 1;position: relative;background-color: white;}#sk-container-id-1 div.sk-parallel-item:first-child::after {align-self: flex-end;width: 50%;}#sk-container-id-1 div.sk-parallel-item:last-child::after {align-self: flex-start;width: 50%;}#sk-container-id-1 div.sk-parallel-item:only-child::after {width: 0;}#sk-container-id-1 div.sk-dashed-wrapped {border: 1px dashed gray;margin: 0 0.4em 0.5em 0.4em;box-sizing: border-box;padding-bottom: 0.4em;background-color: white;}#sk-container-id-1 div.sk-label label {font-family: monospace;font-weight: bold;display: inline-block;line-height: 1.2em;}#sk-container-id-1 div.sk-label-container {text-align: center;}#sk-container-id-1 div.sk-container {/* jupyter's `normalize.less` sets `[hidden] { display: none; }` but bootstrap.min.css set `[hidden] { display: none !important; }` so we also need the `!important` here to be able to override the default hidden behavior on the sphinx rendered scikit-learn.org. See: https://github.com/scikit-learn/scikit-learn/issues/21755 */display: inline-block !important;position: relative;}#sk-container-id-1 div.sk-text-repr-fallback {display: none;}</style><div id=\"sk-container-id-1\" class=\"sk-top-container\"><div class=\"sk-text-repr-fallback\"><pre>MultinomialNB()</pre><b>In a Jupyter environment, please rerun this cell to show the HTML representation or trust the notebook. <br />On GitHub, the HTML representation is unable to render, please try loading this page with nbviewer.org.</b></div><div class=\"sk-container\" hidden><div class=\"sk-item\"><div class=\"sk-estimator sk-toggleable\"><input class=\"sk-toggleable__control sk-hidden--visually\" id=\"sk-estimator-id-1\" type=\"checkbox\" checked><label for=\"sk-estimator-id-1\" class=\"sk-toggleable__label sk-toggleable__label-arrow\">MultinomialNB</label><div class=\"sk-toggleable__content\"><pre>MultinomialNB()</pre></div></div></div></div></div>"
            ]
          },
          "metadata": {},
          "execution_count": 35
        }
      ]
    },
    {
      "cell_type": "code",
      "metadata": {
        "id": "Hz6O4F-ZuJDO"
      },
      "source": [
        "# make prediction\n",
        "y_val_pred_nb = nb_clf.predict(X_val)\n",
        "y_tr_pred_nb = nb_clf.predict(X_train)\n",
        "y_test_pred_nb = nb_clf.predict(X_test)"
      ],
      "execution_count": null,
      "outputs": []
    },
    {
      "cell_type": "markdown",
      "metadata": {
        "id": "q9AfvicoULnh"
      },
      "source": [
        "### Evaluation"
      ]
    },
    {
      "cell_type": "code",
      "metadata": {
        "id": "ZC_c9TsvKXsb",
        "colab": {
          "base_uri": "https://localhost:8080/"
        },
        "outputId": "8adbabad-a86d-4bc3-c8a8-e561aeb61934"
      },
      "source": [
        "print(\"score of val set\",accuracy_score(y_val, y_val_pred_nb))\n",
        "print(\"score of train set\",accuracy_score(y_train, y_tr_pred_nb))"
      ],
      "execution_count": null,
      "outputs": [
        {
          "output_type": "stream",
          "name": "stdout",
          "text": [
            "score of val set 0.7320872274143302\n",
            "score of train set 0.8747594171020071\n"
          ]
        }
      ]
    },
    {
      "cell_type": "code",
      "metadata": {
        "id": "nBQc6rQRuJHT",
        "colab": {
          "base_uri": "https://localhost:8080/"
        },
        "outputId": "941c2614-863c-4532-f1b6-ae6471e37356"
      },
      "source": [
        "print('confussion matrix')\n",
        "print(confusion_matrix(y_val, y_val_pred_nb))\n",
        "\n",
        "#            Predicted\n",
        "#           0    1    2   3\n",
        "# Actual 0\n",
        "#        1\n",
        "#        2\n",
        "#        3"
      ],
      "execution_count": null,
      "outputs": [
        {
          "output_type": "stream",
          "name": "stdout",
          "text": [
            "confussion matrix\n",
            "[[238  65   7  19]\n",
            " [ 18 333   1  17]\n",
            " [  8  48 222   5]\n",
            " [ 41 111   4 147]]\n"
          ]
        }
      ]
    },
    {
      "cell_type": "code",
      "metadata": {
        "id": "ZwvHiGW5Zccj",
        "colab": {
          "base_uri": "https://localhost:8080/"
        },
        "outputId": "e8f49a0a-5399-42d6-8408-e00a774daac6"
      },
      "source": [
        "print('classification report:')\n",
        "print(classification_report(y_val, y_val_pred_nb))"
      ],
      "execution_count": null,
      "outputs": [
        {
          "output_type": "stream",
          "name": "stdout",
          "text": [
            "classification report:\n",
            "              precision    recall  f1-score   support\n",
            "\n",
            "           0       0.78      0.72      0.75       329\n",
            "           1       0.60      0.90      0.72       369\n",
            "           2       0.95      0.78      0.86       283\n",
            "           3       0.78      0.49      0.60       303\n",
            "\n",
            "    accuracy                           0.73      1284\n",
            "   macro avg       0.78      0.72      0.73      1284\n",
            "weighted avg       0.77      0.73      0.73      1284\n",
            "\n"
          ]
        }
      ]
    },
    {
      "cell_type": "markdown",
      "metadata": {
        "id": "AqrnszOsbPL2"
      },
      "source": [
        "## Random Forest Classifier"
      ]
    },
    {
      "cell_type": "code",
      "metadata": {
        "id": "7nx6moi8bTVp",
        "colab": {
          "base_uri": "https://localhost:8080/",
          "height": 76
        },
        "outputId": "b76db801-2508-4cae-c3f9-3cac355a3e2e"
      },
      "source": [
        "# Training RandomForest with 200 trees\n",
        "rf_clf = RandomForestClassifier(n_estimators=200, random_state=random_state)\n",
        "\n",
        "rf_clf.fit(X_train, y_train)"
      ],
      "execution_count": null,
      "outputs": [
        {
          "output_type": "execute_result",
          "data": {
            "text/plain": [
              "RandomForestClassifier(n_estimators=200, random_state=42)"
            ],
            "text/html": [
              "<style>#sk-container-id-2 {color: black;background-color: white;}#sk-container-id-2 pre{padding: 0;}#sk-container-id-2 div.sk-toggleable {background-color: white;}#sk-container-id-2 label.sk-toggleable__label {cursor: pointer;display: block;width: 100%;margin-bottom: 0;padding: 0.3em;box-sizing: border-box;text-align: center;}#sk-container-id-2 label.sk-toggleable__label-arrow:before {content: \"▸\";float: left;margin-right: 0.25em;color: #696969;}#sk-container-id-2 label.sk-toggleable__label-arrow:hover:before {color: black;}#sk-container-id-2 div.sk-estimator:hover label.sk-toggleable__label-arrow:before {color: black;}#sk-container-id-2 div.sk-toggleable__content {max-height: 0;max-width: 0;overflow: hidden;text-align: left;background-color: #f0f8ff;}#sk-container-id-2 div.sk-toggleable__content pre {margin: 0.2em;color: black;border-radius: 0.25em;background-color: #f0f8ff;}#sk-container-id-2 input.sk-toggleable__control:checked~div.sk-toggleable__content {max-height: 200px;max-width: 100%;overflow: auto;}#sk-container-id-2 input.sk-toggleable__control:checked~label.sk-toggleable__label-arrow:before {content: \"▾\";}#sk-container-id-2 div.sk-estimator input.sk-toggleable__control:checked~label.sk-toggleable__label {background-color: #d4ebff;}#sk-container-id-2 div.sk-label input.sk-toggleable__control:checked~label.sk-toggleable__label {background-color: #d4ebff;}#sk-container-id-2 input.sk-hidden--visually {border: 0;clip: rect(1px 1px 1px 1px);clip: rect(1px, 1px, 1px, 1px);height: 1px;margin: -1px;overflow: hidden;padding: 0;position: absolute;width: 1px;}#sk-container-id-2 div.sk-estimator {font-family: monospace;background-color: #f0f8ff;border: 1px dotted black;border-radius: 0.25em;box-sizing: border-box;margin-bottom: 0.5em;}#sk-container-id-2 div.sk-estimator:hover {background-color: #d4ebff;}#sk-container-id-2 div.sk-parallel-item::after {content: \"\";width: 100%;border-bottom: 1px solid gray;flex-grow: 1;}#sk-container-id-2 div.sk-label:hover label.sk-toggleable__label {background-color: #d4ebff;}#sk-container-id-2 div.sk-serial::before {content: \"\";position: absolute;border-left: 1px solid gray;box-sizing: border-box;top: 0;bottom: 0;left: 50%;z-index: 0;}#sk-container-id-2 div.sk-serial {display: flex;flex-direction: column;align-items: center;background-color: white;padding-right: 0.2em;padding-left: 0.2em;position: relative;}#sk-container-id-2 div.sk-item {position: relative;z-index: 1;}#sk-container-id-2 div.sk-parallel {display: flex;align-items: stretch;justify-content: center;background-color: white;position: relative;}#sk-container-id-2 div.sk-item::before, #sk-container-id-2 div.sk-parallel-item::before {content: \"\";position: absolute;border-left: 1px solid gray;box-sizing: border-box;top: 0;bottom: 0;left: 50%;z-index: -1;}#sk-container-id-2 div.sk-parallel-item {display: flex;flex-direction: column;z-index: 1;position: relative;background-color: white;}#sk-container-id-2 div.sk-parallel-item:first-child::after {align-self: flex-end;width: 50%;}#sk-container-id-2 div.sk-parallel-item:last-child::after {align-self: flex-start;width: 50%;}#sk-container-id-2 div.sk-parallel-item:only-child::after {width: 0;}#sk-container-id-2 div.sk-dashed-wrapped {border: 1px dashed gray;margin: 0 0.4em 0.5em 0.4em;box-sizing: border-box;padding-bottom: 0.4em;background-color: white;}#sk-container-id-2 div.sk-label label {font-family: monospace;font-weight: bold;display: inline-block;line-height: 1.2em;}#sk-container-id-2 div.sk-label-container {text-align: center;}#sk-container-id-2 div.sk-container {/* jupyter's `normalize.less` sets `[hidden] { display: none; }` but bootstrap.min.css set `[hidden] { display: none !important; }` so we also need the `!important` here to be able to override the default hidden behavior on the sphinx rendered scikit-learn.org. See: https://github.com/scikit-learn/scikit-learn/issues/21755 */display: inline-block !important;position: relative;}#sk-container-id-2 div.sk-text-repr-fallback {display: none;}</style><div id=\"sk-container-id-2\" class=\"sk-top-container\"><div class=\"sk-text-repr-fallback\"><pre>RandomForestClassifier(n_estimators=200, random_state=42)</pre><b>In a Jupyter environment, please rerun this cell to show the HTML representation or trust the notebook. <br />On GitHub, the HTML representation is unable to render, please try loading this page with nbviewer.org.</b></div><div class=\"sk-container\" hidden><div class=\"sk-item\"><div class=\"sk-estimator sk-toggleable\"><input class=\"sk-toggleable__control sk-hidden--visually\" id=\"sk-estimator-id-2\" type=\"checkbox\" checked><label for=\"sk-estimator-id-2\" class=\"sk-toggleable__label sk-toggleable__label-arrow\">RandomForestClassifier</label><div class=\"sk-toggleable__content\"><pre>RandomForestClassifier(n_estimators=200, random_state=42)</pre></div></div></div></div></div>"
            ]
          },
          "metadata": {},
          "execution_count": 40
        }
      ]
    },
    {
      "cell_type": "code",
      "metadata": {
        "id": "D04biWPtctiK"
      },
      "source": [
        "# make prediction\n",
        "y_val_pred_rf = rf_clf.predict(X_val)\n",
        "y_tr_pred_rf = rf_clf.predict(X_train)\n",
        "y_test_pred_rf = rf_clf.predict(X_test)"
      ],
      "execution_count": null,
      "outputs": []
    },
    {
      "cell_type": "markdown",
      "metadata": {
        "id": "UhjKgHq3dMR0"
      },
      "source": [
        "### Evaluation"
      ]
    },
    {
      "cell_type": "code",
      "metadata": {
        "id": "LdYn4FFBdOcx",
        "colab": {
          "base_uri": "https://localhost:8080/"
        },
        "outputId": "75a19eeb-2ddd-4a73-d546-99dfcff9a697"
      },
      "source": [
        "print(\"score of val set\", accuracy_score(y_val, y_val_pred_rf))\n",
        "print(\"score of train set\", accuracy_score(y_train, y_tr_pred_rf))"
      ],
      "execution_count": null,
      "outputs": [
        {
          "output_type": "stream",
          "name": "stdout",
          "text": [
            "score of val set 0.7484423676012462\n",
            "score of train set 0.9206763816332142\n"
          ]
        }
      ]
    },
    {
      "cell_type": "code",
      "metadata": {
        "id": "0Wq_wMMZdPDC",
        "colab": {
          "base_uri": "https://localhost:8080/"
        },
        "outputId": "d648b92a-470a-40be-90c9-ecf66bc68993"
      },
      "source": [
        "print('confussion matrix')\n",
        "print(confusion_matrix(y_val, y_val_pred_rf))\n",
        "\n",
        "#            Predicted\n",
        "#           0    1    2   3\n",
        "# Actual 0\n",
        "#        1\n",
        "#        2\n",
        "#        3"
      ],
      "execution_count": null,
      "outputs": [
        {
          "output_type": "stream",
          "name": "stdout",
          "text": [
            "confussion matrix\n",
            "[[232  41  22  34]\n",
            " [ 29 282  18  40]\n",
            " [  6  26 247   4]\n",
            " [ 47  49   7 200]]\n"
          ]
        }
      ]
    },
    {
      "cell_type": "code",
      "metadata": {
        "id": "xYlPx2a5dPFi",
        "colab": {
          "base_uri": "https://localhost:8080/"
        },
        "outputId": "7f1cae16-2746-4ee7-f83e-bdb57c9a3d80"
      },
      "source": [
        "print('classification report:')\n",
        "print(classification_report(y_val, y_val_pred_rf))"
      ],
      "execution_count": null,
      "outputs": [
        {
          "output_type": "stream",
          "name": "stdout",
          "text": [
            "classification report:\n",
            "              precision    recall  f1-score   support\n",
            "\n",
            "           0       0.74      0.71      0.72       329\n",
            "           1       0.71      0.76      0.74       369\n",
            "           2       0.84      0.87      0.86       283\n",
            "           3       0.72      0.66      0.69       303\n",
            "\n",
            "    accuracy                           0.75      1284\n",
            "   macro avg       0.75      0.75      0.75      1284\n",
            "weighted avg       0.75      0.75      0.75      1284\n",
            "\n"
          ]
        }
      ]
    },
    {
      "cell_type": "markdown",
      "metadata": {
        "id": "Xz2aY3h0-RB8"
      },
      "source": [
        "## Logistic Regression"
      ]
    },
    {
      "cell_type": "code",
      "metadata": {
        "id": "QYp2_3y--QYB",
        "colab": {
          "base_uri": "https://localhost:8080/",
          "height": 96
        },
        "outputId": "fd249961-d668-460b-d713-34b2c38cf1e2"
      },
      "source": [
        "log_clf = LogisticRegression(random_state=random_state)\n",
        "\n",
        "log_clf.fit(X_train, y_train)"
      ],
      "execution_count": null,
      "outputs": [
        {
          "output_type": "execute_result",
          "data": {
            "text/plain": [
              "LogisticRegression(random_state=42)"
            ],
            "text/html": [
              "<style>#sk-container-id-3 {color: black;background-color: white;}#sk-container-id-3 pre{padding: 0;}#sk-container-id-3 div.sk-toggleable {background-color: white;}#sk-container-id-3 label.sk-toggleable__label {cursor: pointer;display: block;width: 100%;margin-bottom: 0;padding: 0.3em;box-sizing: border-box;text-align: center;}#sk-container-id-3 label.sk-toggleable__label-arrow:before {content: \"▸\";float: left;margin-right: 0.25em;color: #696969;}#sk-container-id-3 label.sk-toggleable__label-arrow:hover:before {color: black;}#sk-container-id-3 div.sk-estimator:hover label.sk-toggleable__label-arrow:before {color: black;}#sk-container-id-3 div.sk-toggleable__content {max-height: 0;max-width: 0;overflow: hidden;text-align: left;background-color: #f0f8ff;}#sk-container-id-3 div.sk-toggleable__content pre {margin: 0.2em;color: black;border-radius: 0.25em;background-color: #f0f8ff;}#sk-container-id-3 input.sk-toggleable__control:checked~div.sk-toggleable__content {max-height: 200px;max-width: 100%;overflow: auto;}#sk-container-id-3 input.sk-toggleable__control:checked~label.sk-toggleable__label-arrow:before {content: \"▾\";}#sk-container-id-3 div.sk-estimator input.sk-toggleable__control:checked~label.sk-toggleable__label {background-color: #d4ebff;}#sk-container-id-3 div.sk-label input.sk-toggleable__control:checked~label.sk-toggleable__label {background-color: #d4ebff;}#sk-container-id-3 input.sk-hidden--visually {border: 0;clip: rect(1px 1px 1px 1px);clip: rect(1px, 1px, 1px, 1px);height: 1px;margin: -1px;overflow: hidden;padding: 0;position: absolute;width: 1px;}#sk-container-id-3 div.sk-estimator {font-family: monospace;background-color: #f0f8ff;border: 1px dotted black;border-radius: 0.25em;box-sizing: border-box;margin-bottom: 0.5em;}#sk-container-id-3 div.sk-estimator:hover {background-color: #d4ebff;}#sk-container-id-3 div.sk-parallel-item::after {content: \"\";width: 100%;border-bottom: 1px solid gray;flex-grow: 1;}#sk-container-id-3 div.sk-label:hover label.sk-toggleable__label {background-color: #d4ebff;}#sk-container-id-3 div.sk-serial::before {content: \"\";position: absolute;border-left: 1px solid gray;box-sizing: border-box;top: 0;bottom: 0;left: 50%;z-index: 0;}#sk-container-id-3 div.sk-serial {display: flex;flex-direction: column;align-items: center;background-color: white;padding-right: 0.2em;padding-left: 0.2em;position: relative;}#sk-container-id-3 div.sk-item {position: relative;z-index: 1;}#sk-container-id-3 div.sk-parallel {display: flex;align-items: stretch;justify-content: center;background-color: white;position: relative;}#sk-container-id-3 div.sk-item::before, #sk-container-id-3 div.sk-parallel-item::before {content: \"\";position: absolute;border-left: 1px solid gray;box-sizing: border-box;top: 0;bottom: 0;left: 50%;z-index: -1;}#sk-container-id-3 div.sk-parallel-item {display: flex;flex-direction: column;z-index: 1;position: relative;background-color: white;}#sk-container-id-3 div.sk-parallel-item:first-child::after {align-self: flex-end;width: 50%;}#sk-container-id-3 div.sk-parallel-item:last-child::after {align-self: flex-start;width: 50%;}#sk-container-id-3 div.sk-parallel-item:only-child::after {width: 0;}#sk-container-id-3 div.sk-dashed-wrapped {border: 1px dashed gray;margin: 0 0.4em 0.5em 0.4em;box-sizing: border-box;padding-bottom: 0.4em;background-color: white;}#sk-container-id-3 div.sk-label label {font-family: monospace;font-weight: bold;display: inline-block;line-height: 1.2em;}#sk-container-id-3 div.sk-label-container {text-align: center;}#sk-container-id-3 div.sk-container {/* jupyter's `normalize.less` sets `[hidden] { display: none; }` but bootstrap.min.css set `[hidden] { display: none !important; }` so we also need the `!important` here to be able to override the default hidden behavior on the sphinx rendered scikit-learn.org. See: https://github.com/scikit-learn/scikit-learn/issues/21755 */display: inline-block !important;position: relative;}#sk-container-id-3 div.sk-text-repr-fallback {display: none;}</style><div id=\"sk-container-id-3\" class=\"sk-top-container\"><div class=\"sk-text-repr-fallback\"><pre>LogisticRegression(random_state=42)</pre><b>In a Jupyter environment, please rerun this cell to show the HTML representation or trust the notebook. <br />On GitHub, the HTML representation is unable to render, please try loading this page with nbviewer.org.</b></div><div class=\"sk-container\" hidden><div class=\"sk-item\"><div class=\"sk-estimator sk-toggleable\"><input class=\"sk-toggleable__control sk-hidden--visually\" id=\"sk-estimator-id-3\" type=\"checkbox\" checked><label for=\"sk-estimator-id-3\" class=\"sk-toggleable__label sk-toggleable__label-arrow\">LogisticRegression</label><div class=\"sk-toggleable__content\"><pre>LogisticRegression(random_state=42)</pre></div></div></div></div></div>"
            ]
          },
          "metadata": {},
          "execution_count": 45
        }
      ]
    },
    {
      "cell_type": "code",
      "metadata": {
        "id": "P_oDZzTn-QYG"
      },
      "source": [
        "# make prediction\n",
        "y_val_pred_log = log_clf.predict(X_val)\n",
        "y_tr_pred_log = log_clf.predict(X_train)\n",
        "y_test_pred_log = log_clf.predict(X_test)"
      ],
      "execution_count": null,
      "outputs": []
    },
    {
      "cell_type": "markdown",
      "metadata": {
        "id": "JRopJj_Q-QYI"
      },
      "source": [
        "### Evaluation"
      ]
    },
    {
      "cell_type": "code",
      "metadata": {
        "id": "hMP-2o---QYJ",
        "colab": {
          "base_uri": "https://localhost:8080/"
        },
        "outputId": "a03e547f-f34a-4892-dfac-f9cd4584a476"
      },
      "source": [
        "print(\"score of val set\", accuracy_score(y_val, y_val_pred_log))\n",
        "print(\"score of train set\", accuracy_score(y_train, y_tr_pred_log))"
      ],
      "execution_count": null,
      "outputs": [
        {
          "output_type": "stream",
          "name": "stdout",
          "text": [
            "score of val set 0.7757009345794392\n",
            "score of train set 0.8952433324168271\n"
          ]
        }
      ]
    },
    {
      "cell_type": "code",
      "metadata": {
        "id": "nUAJQqhj-QYL",
        "colab": {
          "base_uri": "https://localhost:8080/"
        },
        "outputId": "cee489df-0242-484a-f8bd-e0ad8ad29367"
      },
      "source": [
        "print('confussion matrix')\n",
        "print(confusion_matrix(y_val, y_val_pred_log))\n",
        "\n",
        "#            Predicted\n",
        "#           0    1    2   3\n",
        "# Actual 0\n",
        "#        1\n",
        "#        2\n",
        "#        3"
      ],
      "execution_count": null,
      "outputs": [
        {
          "output_type": "stream",
          "name": "stdout",
          "text": [
            "confussion matrix\n",
            "[[245  48   9  27]\n",
            " [ 21 315   8  25]\n",
            " [  9  27 242   5]\n",
            " [ 38  65   6 194]]\n"
          ]
        }
      ]
    },
    {
      "cell_type": "code",
      "metadata": {
        "id": "gwHssng8-QYN",
        "colab": {
          "base_uri": "https://localhost:8080/"
        },
        "outputId": "45220b96-ea20-4de1-8219-80730665ae43"
      },
      "source": [
        "print('classification report:')\n",
        "print(classification_report(y_val, y_val_pred_log))"
      ],
      "execution_count": null,
      "outputs": [
        {
          "output_type": "stream",
          "name": "stdout",
          "text": [
            "classification report:\n",
            "              precision    recall  f1-score   support\n",
            "\n",
            "           0       0.78      0.74      0.76       329\n",
            "           1       0.69      0.85      0.76       369\n",
            "           2       0.91      0.86      0.88       283\n",
            "           3       0.77      0.64      0.70       303\n",
            "\n",
            "    accuracy                           0.78      1284\n",
            "   macro avg       0.79      0.77      0.78      1284\n",
            "weighted avg       0.78      0.78      0.78      1284\n",
            "\n"
          ]
        }
      ]
    },
    {
      "cell_type": "markdown",
      "metadata": {
        "id": "y3frxHcF-uxA"
      },
      "source": [
        "## LinearSVC"
      ]
    },
    {
      "cell_type": "code",
      "metadata": {
        "id": "tsaHB7P3-uxC",
        "colab": {
          "base_uri": "https://localhost:8080/",
          "height": 96
        },
        "outputId": "6c813624-b4f9-42f1-cf49-8d28333d5bdb"
      },
      "source": [
        "svc_clf = LinearSVC()\n",
        "\n",
        "svc_clf.fit(X_train, y_train)"
      ],
      "execution_count": null,
      "outputs": [
        {
          "output_type": "execute_result",
          "data": {
            "text/plain": [
              "LinearSVC()"
            ],
            "text/html": [
              "<style>#sk-container-id-4 {color: black;background-color: white;}#sk-container-id-4 pre{padding: 0;}#sk-container-id-4 div.sk-toggleable {background-color: white;}#sk-container-id-4 label.sk-toggleable__label {cursor: pointer;display: block;width: 100%;margin-bottom: 0;padding: 0.3em;box-sizing: border-box;text-align: center;}#sk-container-id-4 label.sk-toggleable__label-arrow:before {content: \"▸\";float: left;margin-right: 0.25em;color: #696969;}#sk-container-id-4 label.sk-toggleable__label-arrow:hover:before {color: black;}#sk-container-id-4 div.sk-estimator:hover label.sk-toggleable__label-arrow:before {color: black;}#sk-container-id-4 div.sk-toggleable__content {max-height: 0;max-width: 0;overflow: hidden;text-align: left;background-color: #f0f8ff;}#sk-container-id-4 div.sk-toggleable__content pre {margin: 0.2em;color: black;border-radius: 0.25em;background-color: #f0f8ff;}#sk-container-id-4 input.sk-toggleable__control:checked~div.sk-toggleable__content {max-height: 200px;max-width: 100%;overflow: auto;}#sk-container-id-4 input.sk-toggleable__control:checked~label.sk-toggleable__label-arrow:before {content: \"▾\";}#sk-container-id-4 div.sk-estimator input.sk-toggleable__control:checked~label.sk-toggleable__label {background-color: #d4ebff;}#sk-container-id-4 div.sk-label input.sk-toggleable__control:checked~label.sk-toggleable__label {background-color: #d4ebff;}#sk-container-id-4 input.sk-hidden--visually {border: 0;clip: rect(1px 1px 1px 1px);clip: rect(1px, 1px, 1px, 1px);height: 1px;margin: -1px;overflow: hidden;padding: 0;position: absolute;width: 1px;}#sk-container-id-4 div.sk-estimator {font-family: monospace;background-color: #f0f8ff;border: 1px dotted black;border-radius: 0.25em;box-sizing: border-box;margin-bottom: 0.5em;}#sk-container-id-4 div.sk-estimator:hover {background-color: #d4ebff;}#sk-container-id-4 div.sk-parallel-item::after {content: \"\";width: 100%;border-bottom: 1px solid gray;flex-grow: 1;}#sk-container-id-4 div.sk-label:hover label.sk-toggleable__label {background-color: #d4ebff;}#sk-container-id-4 div.sk-serial::before {content: \"\";position: absolute;border-left: 1px solid gray;box-sizing: border-box;top: 0;bottom: 0;left: 50%;z-index: 0;}#sk-container-id-4 div.sk-serial {display: flex;flex-direction: column;align-items: center;background-color: white;padding-right: 0.2em;padding-left: 0.2em;position: relative;}#sk-container-id-4 div.sk-item {position: relative;z-index: 1;}#sk-container-id-4 div.sk-parallel {display: flex;align-items: stretch;justify-content: center;background-color: white;position: relative;}#sk-container-id-4 div.sk-item::before, #sk-container-id-4 div.sk-parallel-item::before {content: \"\";position: absolute;border-left: 1px solid gray;box-sizing: border-box;top: 0;bottom: 0;left: 50%;z-index: -1;}#sk-container-id-4 div.sk-parallel-item {display: flex;flex-direction: column;z-index: 1;position: relative;background-color: white;}#sk-container-id-4 div.sk-parallel-item:first-child::after {align-self: flex-end;width: 50%;}#sk-container-id-4 div.sk-parallel-item:last-child::after {align-self: flex-start;width: 50%;}#sk-container-id-4 div.sk-parallel-item:only-child::after {width: 0;}#sk-container-id-4 div.sk-dashed-wrapped {border: 1px dashed gray;margin: 0 0.4em 0.5em 0.4em;box-sizing: border-box;padding-bottom: 0.4em;background-color: white;}#sk-container-id-4 div.sk-label label {font-family: monospace;font-weight: bold;display: inline-block;line-height: 1.2em;}#sk-container-id-4 div.sk-label-container {text-align: center;}#sk-container-id-4 div.sk-container {/* jupyter's `normalize.less` sets `[hidden] { display: none; }` but bootstrap.min.css set `[hidden] { display: none !important; }` so we also need the `!important` here to be able to override the default hidden behavior on the sphinx rendered scikit-learn.org. See: https://github.com/scikit-learn/scikit-learn/issues/21755 */display: inline-block !important;position: relative;}#sk-container-id-4 div.sk-text-repr-fallback {display: none;}</style><div id=\"sk-container-id-4\" class=\"sk-top-container\"><div class=\"sk-text-repr-fallback\"><pre>LinearSVC()</pre><b>In a Jupyter environment, please rerun this cell to show the HTML representation or trust the notebook. <br />On GitHub, the HTML representation is unable to render, please try loading this page with nbviewer.org.</b></div><div class=\"sk-container\" hidden><div class=\"sk-item\"><div class=\"sk-estimator sk-toggleable\"><input class=\"sk-toggleable__control sk-hidden--visually\" id=\"sk-estimator-id-4\" type=\"checkbox\" checked><label for=\"sk-estimator-id-4\" class=\"sk-toggleable__label sk-toggleable__label-arrow\">LinearSVC</label><div class=\"sk-toggleable__content\"><pre>LinearSVC()</pre></div></div></div></div></div>"
            ]
          },
          "metadata": {},
          "execution_count": 50
        }
      ]
    },
    {
      "cell_type": "code",
      "metadata": {
        "id": "Ju2iolQY-uxF"
      },
      "source": [
        "# make prediction\n",
        "y_val_pred_svc = svc_clf.predict(X_val)\n",
        "y_tr_pred_svc = svc_clf.predict(X_train)\n",
        "y_test_pred_svc = svc_clf.predict(X_test)"
      ],
      "execution_count": null,
      "outputs": []
    },
    {
      "cell_type": "markdown",
      "metadata": {
        "id": "2EQ9eZvd-uxI"
      },
      "source": [
        "### Evaluation"
      ]
    },
    {
      "cell_type": "code",
      "metadata": {
        "id": "wvVspZgu-uxI",
        "colab": {
          "base_uri": "https://localhost:8080/"
        },
        "outputId": "637980ba-6c27-4047-a55d-a5644ca121bd"
      },
      "source": [
        "print(\"score of val set\", accuracy_score(y_val, y_val_pred_svc))\n",
        "print(\"score of train set\", accuracy_score(y_train, y_tr_pred_svc))"
      ],
      "execution_count": null,
      "outputs": [
        {
          "output_type": "stream",
          "name": "stdout",
          "text": [
            "score of val set 0.7850467289719626\n",
            "score of train set 0.9162771514984878\n"
          ]
        }
      ]
    },
    {
      "cell_type": "code",
      "metadata": {
        "id": "olcR87c_-uxL",
        "colab": {
          "base_uri": "https://localhost:8080/"
        },
        "outputId": "40cebc20-41fb-4276-d669-8391abf072a2"
      },
      "source": [
        "print('confussion matrix')\n",
        "print(confusion_matrix(y_val, y_val_pred_svc))\n",
        "\n",
        "#            Predicted\n",
        "#           0    1    2   3\n",
        "# Actual 0\n",
        "#        1\n",
        "#        2\n",
        "#        3"
      ],
      "execution_count": null,
      "outputs": [
        {
          "output_type": "stream",
          "name": "stdout",
          "text": [
            "confussion matrix\n",
            "[[252  40   4  33]\n",
            " [ 29 302   8  30]\n",
            " [  6  20 251   6]\n",
            " [ 44  49   7 203]]\n"
          ]
        }
      ]
    },
    {
      "cell_type": "code",
      "metadata": {
        "id": "_JkyMhrI-uxM",
        "colab": {
          "base_uri": "https://localhost:8080/"
        },
        "outputId": "9e1de106-2695-468d-ad68-a48d150619f5"
      },
      "source": [
        "print('classification report:')\n",
        "print(classification_report(y_val, y_val_pred_svc))"
      ],
      "execution_count": null,
      "outputs": [
        {
          "output_type": "stream",
          "name": "stdout",
          "text": [
            "classification report:\n",
            "              precision    recall  f1-score   support\n",
            "\n",
            "           0       0.76      0.77      0.76       329\n",
            "           1       0.73      0.82      0.77       369\n",
            "           2       0.93      0.89      0.91       283\n",
            "           3       0.75      0.67      0.71       303\n",
            "\n",
            "    accuracy                           0.79      1284\n",
            "   macro avg       0.79      0.79      0.79      1284\n",
            "weighted avg       0.79      0.79      0.78      1284\n",
            "\n"
          ]
        }
      ]
    },
    {
      "cell_type": "markdown",
      "metadata": {
        "id": "w6m5lFn5MtoF"
      },
      "source": [
        "## Observation\n",
        "\n",
        "From the evaluations, between the chosen 4 models, LinearSVC model gives the best accuracy score on validation sets:\n",
        "\n",
        "**0.785**"
      ]
    },
    {
      "cell_type": "markdown",
      "metadata": {
        "id": "_bb_OJfiTDdB"
      },
      "source": [
        "---\n",
        "# Deep machine learning\n",
        "\n",
        "Since the best accuracy score on validation sets using Conventional models is **0.785**, the goal of deep models is to achieve a higher score.\n",
        "\n",
        "There are two main trial in this section:\n",
        "* The first trial is to build a neuron network and take the previous generated TF.IDF vectors as training data.\n",
        "\n",
        "* The second trial is to build neuron networks using embedinng layer.\n",
        "\n",
        "\n",
        "\n",
        "\n",
        "\n",
        "\n"
      ]
    },
    {
      "cell_type": "markdown",
      "metadata": {
        "id": "pvNhlg4iTqzS"
      },
      "source": [
        "## Preparation\n",
        "\n"
      ]
    },
    {
      "cell_type": "markdown",
      "metadata": {
        "id": "yvABzefWaHqG"
      },
      "source": [
        "###Convert labels to one-hot encoding vectors\n",
        "Neuron networks train most effectively when labels are one-hot encoding vectors. Thus, the training and validation labels encoded into one-hot encoding vector in this section."
      ]
    },
    {
      "cell_type": "code",
      "metadata": {
        "id": "0ZKfdJF-TqFd"
      },
      "source": [
        "# convert labels to one-hot encoding vectors:\n",
        "num_classes = len(emotions)    # number of classes\n",
        "vec_labels_train = np_utils.to_categorical(labels_train_new, num_classes)\n",
        "vec_labels_val = np_utils.to_categorical(labels_val_new, num_classes)"
      ],
      "execution_count": null,
      "outputs": []
    },
    {
      "cell_type": "code",
      "metadata": {
        "id": "XtPLg-_4aFKB",
        "colab": {
          "base_uri": "https://localhost:8080/"
        },
        "outputId": "dbb4643d-4c35-4872-9709-af2c85eaf101"
      },
      "source": [
        "print(\"labels of the first 5 sentences: \")\n",
        "vec_labels_train[:5]"
      ],
      "execution_count": null,
      "outputs": [
        {
          "output_type": "stream",
          "name": "stdout",
          "text": [
            "labels of the first 5 sentences: \n"
          ]
        },
        {
          "output_type": "execute_result",
          "data": {
            "text/plain": [
              "array([[1., 0., 0., 0.],\n",
              "       [0., 1., 0., 0.],\n",
              "       [1., 0., 0., 0.],\n",
              "       [1., 0., 0., 0.],\n",
              "       [0., 1., 0., 0.]], dtype=float32)"
            ]
          },
          "metadata": {},
          "execution_count": 56
        }
      ]
    },
    {
      "cell_type": "markdown",
      "metadata": {
        "id": "MT8XopeafE_d"
      },
      "source": [
        "### Set up EarlyStopping and ModelCheckpoint"
      ]
    },
    {
      "cell_type": "code",
      "metadata": {
        "id": "0IS-g-0ne4zT"
      },
      "source": [
        "earlyStopping = EarlyStopping(monitor='val_loss', patience=5, verbose=1, mode='min')\n",
        "\n",
        "mcp_save = ModelCheckpoint(filepath='best_model.h5', save_best_only=True, monitor='val_loss', mode='min')\n",
        "\n",
        "reduce_lr_loss = ReduceLROnPlateau(monitor='val_loss', factor=0.1, patience=1, verbose=1, mode='min')"
      ],
      "execution_count": null,
      "outputs": []
    },
    {
      "cell_type": "markdown",
      "metadata": {
        "id": "A_7oe5nhYYnH"
      },
      "source": [
        "### Prediction function"
      ]
    },
    {
      "cell_type": "code",
      "metadata": {
        "id": "SHqvdOnrYX-B"
      },
      "source": [
        "def make_prediction(model, X_test):\n",
        "  y_pred = model.predict(X_test)\n",
        "  y_pred = np.argmax(y_pred, axis=1)\n",
        "  return y_pred"
      ],
      "execution_count": null,
      "outputs": []
    },
    {
      "cell_type": "markdown",
      "metadata": {
        "id": "LSIJYc-TX0hu"
      },
      "source": [
        "## First trial - NN with TF.IDF\n",
        "\n"
      ]
    },
    {
      "cell_type": "markdown",
      "metadata": {
        "id": "7ITbYby-8gFd"
      },
      "source": [
        "### Variables"
      ]
    },
    {
      "cell_type": "code",
      "metadata": {
        "id": "Z9ROz1sAnmfC",
        "colab": {
          "base_uri": "https://localhost:8080/"
        },
        "outputId": "84a07baa-8aa2-4389-fbc1-d53a5cb904a0"
      },
      "source": [
        "X_train = tfidf_tweets_train\n",
        "y_train = vec_labels_train\n",
        "\n",
        "X_val = tfidf_tweets_val\n",
        "y_val = vec_labels_val\n",
        "\n",
        "X_test = tfidf_tweets_test_public\n",
        "# X_test = tfidf_tweets_test_private\n",
        "\n",
        "print(\"X_train shape = \", X_train.shape)\n",
        "print(\"y_train shape = \", y_train.shape)\n",
        "print(\"X_val shape = \", X_val.shape)\n",
        "print(\"y_val shape = \", y_val.shape)\n",
        "print(\"X_test shape = \", X_test.shape)\n",
        "\n"
      ],
      "execution_count": null,
      "outputs": [
        {
          "output_type": "stream",
          "name": "stdout",
          "text": [
            "X_train shape =  (7274, 11481)\n",
            "y_train shape =  (7274, 4)\n",
            "X_val shape =  (1284, 11481)\n",
            "y_val shape =  (1284, 4)\n",
            "X_test shape =  (4064, 11481)\n"
          ]
        }
      ]
    },
    {
      "cell_type": "code",
      "metadata": {
        "id": "C3bSPbDls74O",
        "colab": {
          "base_uri": "https://localhost:8080/"
        },
        "outputId": "087ba327-224c-475d-a290-33b465affc15"
      },
      "source": [
        "input_shape = X_train.shape[1:]\n",
        "print(\"input_shape = \", input_shape)\n",
        "\n",
        "input_dim = len(X_train[0])\n",
        "print(\"input_dim = \", input_dim)"
      ],
      "execution_count": null,
      "outputs": [
        {
          "output_type": "stream",
          "name": "stdout",
          "text": [
            "input_shape =  (11481,)\n",
            "input_dim =  11481\n"
          ]
        }
      ]
    },
    {
      "cell_type": "markdown",
      "metadata": {
        "id": "5bGAczUOd_vh"
      },
      "source": [
        "### Training model"
      ]
    },
    {
      "cell_type": "code",
      "metadata": {
        "id": "6R7Z4Q-GbhBR"
      },
      "source": [
        "model_tfidf = Sequential()\n",
        "\n",
        "model_tfidf.add(Dense(128, activation='relu', input_dim=input_dim))\n",
        "model_tfidf.add(Dropout(0.25))\n",
        "\n",
        "model_tfidf.add(Dense(32, activation='relu'))\n",
        "model_tfidf.add(Dropout(0.25))\n",
        "\n",
        "\n",
        "model_tfidf.add(Dense(32, activation='relu'))\n",
        "model_tfidf.add(Dropout(0.25))\n",
        "\n",
        "model_tfidf.add(Dense(4, activation='softmax'))\n",
        "\n",
        "model_tfidf.summary\n",
        "\n",
        "model_tfidf.compile(optimizer='adam',\n",
        "              loss='categorical_crossentropy',\n",
        "              metrics=['accuracy'])"
      ],
      "execution_count": null,
      "outputs": []
    },
    {
      "cell_type": "code",
      "metadata": {
        "id": "Am8Or4iHe3v7",
        "colab": {
          "base_uri": "https://localhost:8080/"
        },
        "outputId": "0fce4589-0a44-4d47-e387-8d7f363abde6"
      },
      "source": [
        "model_tfidf.fit(X_train, y_train,\n",
        "                    epochs=20,\n",
        "                    batch_size=32,\n",
        "                    validation_data=(X_val, y_val),\n",
        "                    shuffle=True,\n",
        "                    callbacks=[\n",
        "                               earlyStopping,\n",
        "                               mcp_save,\n",
        "                               reduce_lr_loss]\n",
        "          )"
      ],
      "execution_count": null,
      "outputs": [
        {
          "output_type": "stream",
          "name": "stdout",
          "text": [
            "Epoch 1/20\n",
            "228/228 [==============================] - 8s 10ms/step - loss: 1.2013 - accuracy: 0.4644 - val_loss: 0.7348 - val_accuracy: 0.7555 - lr: 0.0010\n",
            "Epoch 2/20\n",
            "228/228 [==============================] - 1s 5ms/step - loss: 0.5637 - accuracy: 0.8225 - val_loss: 0.6720 - val_accuracy: 0.7555 - lr: 0.0010\n",
            "Epoch 3/20\n",
            "225/228 [============================>.] - ETA: 0s - loss: 0.3599 - accuracy: 0.8811\n",
            "Epoch 3: ReduceLROnPlateau reducing learning rate to 0.00010000000474974513.\n",
            "228/228 [==============================] - 1s 6ms/step - loss: 0.3613 - accuracy: 0.8807 - val_loss: 0.7177 - val_accuracy: 0.7469 - lr: 0.0010\n",
            "Epoch 4/20\n",
            "224/228 [============================>.] - ETA: 0s - loss: 0.2583 - accuracy: 0.9082\n",
            "Epoch 4: ReduceLROnPlateau reducing learning rate to 1.0000000474974514e-05.\n",
            "228/228 [==============================] - 1s 6ms/step - loss: 0.2570 - accuracy: 0.9090 - val_loss: 0.7305 - val_accuracy: 0.7531 - lr: 1.0000e-04\n",
            "Epoch 5/20\n",
            "216/228 [===========================>..] - ETA: 0s - loss: 0.2420 - accuracy: 0.9135\n",
            "Epoch 5: ReduceLROnPlateau reducing learning rate to 1.0000000656873453e-06.\n",
            "228/228 [==============================] - 1s 6ms/step - loss: 0.2447 - accuracy: 0.9128 - val_loss: 0.7332 - val_accuracy: 0.7539 - lr: 1.0000e-05\n",
            "Epoch 6/20\n",
            "221/228 [============================>.] - ETA: 0s - loss: 0.2426 - accuracy: 0.9118\n",
            "Epoch 6: ReduceLROnPlateau reducing learning rate to 1.0000001111620805e-07.\n",
            "228/228 [==============================] - 1s 4ms/step - loss: 0.2417 - accuracy: 0.9122 - val_loss: 0.7334 - val_accuracy: 0.7539 - lr: 1.0000e-06\n",
            "Epoch 7/20\n",
            "219/228 [===========================>..] - ETA: 0s - loss: 0.2495 - accuracy: 0.9111\n",
            "Epoch 7: ReduceLROnPlateau reducing learning rate to 1.000000082740371e-08.\n",
            "228/228 [==============================] - 1s 5ms/step - loss: 0.2467 - accuracy: 0.9120 - val_loss: 0.7335 - val_accuracy: 0.7539 - lr: 1.0000e-07\n",
            "Epoch 7: early stopping\n"
          ]
        },
        {
          "output_type": "execute_result",
          "data": {
            "text/plain": [
              "<keras.callbacks.History at 0x7fd07391af20>"
            ]
          },
          "metadata": {},
          "execution_count": 62
        }
      ]
    },
    {
      "cell_type": "code",
      "metadata": {
        "id": "KlF0aPzAyeHt",
        "colab": {
          "base_uri": "https://localhost:8080/"
        },
        "outputId": "9d3dec1b-a57b-47ae-c50a-a3725d709ac2"
      },
      "source": [
        "model_tfidf = load_model('best_model.h5')\n",
        "print('Evaluation of model_tfidf:',model_tfidf.evaluate(x=X_val, y=y_val))"
      ],
      "execution_count": null,
      "outputs": [
        {
          "output_type": "stream",
          "name": "stdout",
          "text": [
            "41/41 [==============================] - 0s 3ms/step - loss: 0.6720 - accuracy: 0.7555\n",
            "Evaluation of model_tfidf: [0.6719509363174438, 0.7554517388343811]\n"
          ]
        }
      ]
    },
    {
      "cell_type": "code",
      "metadata": {
        "id": "3w7fpKAEyeH0",
        "colab": {
          "base_uri": "https://localhost:8080/"
        },
        "outputId": "7a4b57f3-007a-4577-ddbe-b85a7d012ed1"
      },
      "source": [
        "y_pred_tfidf = make_prediction(model_tfidf, X_test)"
      ],
      "execution_count": null,
      "outputs": [
        {
          "output_type": "stream",
          "name": "stdout",
          "text": [
            "127/127 [==============================] - 0s 2ms/step\n"
          ]
        }
      ]
    },
    {
      "cell_type": "code",
      "metadata": {
        "id": "VDQ_zA3Selxe"
      },
      "source": [
        "backend.clear_session()"
      ],
      "execution_count": null,
      "outputs": []
    },
    {
      "cell_type": "markdown",
      "metadata": {
        "id": "_QHA4KALmvj2"
      },
      "source": [
        "### Observation\n",
        "\n"
      ]
    },
    {
      "cell_type": "markdown",
      "metadata": {
        "id": "XBzLKBjYoXnA"
      },
      "source": [
        "The validation accuracy is stil around 0.78\n",
        "\n",
        "**-> We can see that using NN with TF.IDF does not improve the accuracy on validation set**"
      ]
    },
    {
      "cell_type": "markdown",
      "metadata": {
        "id": "KSjjLIj0Zt8y"
      },
      "source": [
        "## Second trial - NNs with embedding layer\n",
        "\n",
        "Since using the training data processed with TF.IDF method does not improve the accuracy on validation set, this section considers training NNs with the cleaned text data and using embedding layer in the NN.\n",
        "\n",
        "I also consider using a pre-trained embeding vector in this section."
      ]
    },
    {
      "cell_type": "markdown",
      "metadata": {
        "id": "1XQiacRUowVu"
      },
      "source": [
        "### Convert text to vectors\n",
        "\n",
        "In order to input the cleaned text data into embeding layer of the NN, the data needs to be converted into vectors."
      ]
    },
    {
      "cell_type": "code",
      "metadata": {
        "id": "YzTkxSEuovze"
      },
      "source": [
        "# iterate through each sentence in the corpus and then tokenize the sentence into words\n",
        "def vectorize_text(X_train, X_val, X_test, X_test_pri):\n",
        "  from keras.preprocessing.text import Tokenizer\n",
        "  tokenizer = Tokenizer()\n",
        "  tokenizer.fit_on_texts(X_train)\n",
        "\n",
        "  word_index = tokenizer.word_index\n",
        "  vocab_length = len(word_index) + 1\n",
        "\n",
        "\n",
        "  X_train_vec = tokenizer.texts_to_sequences(X_train)\n",
        "  X_val_vec = tokenizer.texts_to_sequences(X_val)\n",
        "  X_test_vec = tokenizer.texts_to_sequences(X_test)\n",
        "  X_test_pri_vec = tokenizer.texts_to_sequences(X_test_pri)\n",
        "\n",
        "  X_train_vec_pad = pad_sequences(X_train_vec, len(tweets_train[0]), padding='post')\n",
        "  X_val_vec_pad = pad_sequences(X_val_vec, len(tweets_train[0]), padding='post')\n",
        "  X_test_vec_pad = pad_sequences(X_test_vec, len(tweets_train[0]), padding='post')\n",
        "  X_test_pri_vec_pad = pad_sequences(X_test_pri_vec, len(tweets_train[0]), padding='post')\n",
        "\n",
        "  return X_train_vec_pad, X_val_vec_pad, X_test_vec_pad, X_test_pri_vec_pad, vocab_length, word_index"
      ],
      "execution_count": null,
      "outputs": []
    },
    {
      "cell_type": "code",
      "metadata": {
        "id": "lzJScdiJnPDr",
        "colab": {
          "base_uri": "https://localhost:8080/"
        },
        "outputId": "827bbe2e-84d6-4188-df4d-4a462361f367"
      },
      "source": [
        "vec_tweets_train, vec_tweets_val, vec_tweets_test_public, vec_tweets_test_private, vocab_length, vocab = vectorize_text(processed_tweets_train_t,\n",
        "                                                                                                                        processed_tweets_val_t,\n",
        "                                                                                                                        processed_tweets_test_public_t,\n",
        "                                                                                                                        processed_tweets_test_private_t)\n",
        "\n",
        "print(\"shape of vec_tweets_train:\", vec_tweets_train.shape)\n",
        "print(\"shape of vec_tweets_val:\", vec_tweets_val.shape)\n",
        "print(\"shape of vec_tweets_test_public:\", vec_tweets_test_public.shape)\n",
        "print(\"shape of vec_tweets_test_private:\", vec_tweets_test_private.shape)"
      ],
      "execution_count": null,
      "outputs": [
        {
          "output_type": "stream",
          "name": "stdout",
          "text": [
            "shape of vec_tweets_train: (7274, 52)\n",
            "shape of vec_tweets_val: (1284, 52)\n",
            "shape of vec_tweets_test_public: (4064, 52)\n",
            "shape of vec_tweets_test_private: (4257, 52)\n"
          ]
        }
      ]
    },
    {
      "cell_type": "code",
      "metadata": {
        "id": "VH8ytxvJe5EZ",
        "colab": {
          "base_uri": "https://localhost:8080/"
        },
        "outputId": "a9781042-d6fb-4d6d-db6c-8ad8bd2358f9"
      },
      "source": [
        "print('The first 5 labels:')\n",
        "vec_tweets_train[:5]"
      ],
      "execution_count": null,
      "outputs": [
        {
          "output_type": "stream",
          "name": "stdout",
          "text": [
            "The first 5 labels:\n"
          ]
        },
        {
          "output_type": "execute_result",
          "data": {
            "text/plain": [
              "array([[6111, 2317,  431,  492,   10,  256,    0,    0,    0,    0,    0,\n",
              "           0,    0,    0,    0,    0,    0,    0,    0,    0,    0,    0,\n",
              "           0,    0,    0,    0,    0,    0,    0,    0,    0,    0,    0,\n",
              "           0,    0,    0,    0,    0,    0,    0,    0,    0,    0,    0,\n",
              "           0,    0,    0,    0,    0,    0,    0,    0],\n",
              "       [   4,   17,  175,   54,    0,    0,    0,    0,    0,    0,    0,\n",
              "           0,    0,    0,    0,    0,    0,    0,    0,    0,    0,    0,\n",
              "           0,    0,    0,    0,    0,    0,    0,    0,    0,    0,    0,\n",
              "           0,    0,    0,    0,    0,    0,    0,    0,    0,    0,    0,\n",
              "           0,    0,    0,    0,    0,    0,    0,    0],\n",
              "       [  69,   36,  356,    1,  464,   11, 6112, 2889,  612,   56, 1149,\n",
              "        6113,    9,    1,  240,   22, 6114, 1266, 6115,   44,    6, 2890,\n",
              "           6,    0,    0,    0,    0,    0,    0,    0,    0,    0,    0,\n",
              "           0,    0,    0,    0,    0,    0,    0,    0,    0,    0,    0,\n",
              "           0,    0,    0,    0,    0,    0,    0,    0],\n",
              "       [ 161, 1720,    7,    2, 1267,   50, 2891, 2318,  885,    0,    0,\n",
              "           0,    0,    0,    0,    0,    0,    0,    0,    0,    0,    0,\n",
              "           0,    0,    0,    0,    0,    0,    0,    0,    0,    0,    0,\n",
              "           0,    0,    0,    0,    0,    0,    0,    0,    0,    0,    0,\n",
              "           0,    0,    0,    0,    0,    0,    0,    0],\n",
              "       [ 174,  288, 6116,    7, 2319,    9,    1, 1268,  997, 3757,   25,\n",
              "          52,  933,   25, 6117, 6118,    0,    0,    0,    0,    0,    0,\n",
              "           0,    0,    0,    0,    0,    0,    0,    0,    0,    0,    0,\n",
              "           0,    0,    0,    0,    0,    0,    0,    0,    0,    0,    0,\n",
              "           0,    0,    0,    0,    0,    0,    0,    0]], dtype=int32)"
            ]
          },
          "metadata": {},
          "execution_count": 68
        }
      ]
    },
    {
      "cell_type": "markdown",
      "metadata": {
        "id": "Z5gM_vsjW88T"
      },
      "source": [
        "### Variables\n",
        "\n",
        "For this section, I create two groups of variables for comparisions to clarify whether I preporcessed the data too much or not.\n",
        "\n",
        "*   Original variables: are from the given data *(after merging and splitting)*;\n",
        "*   Processed variables are from the processed data\n",
        "\n",
        "\n",
        "\n"
      ]
    },
    {
      "cell_type": "markdown",
      "metadata": {
        "id": "WGqnTyVrjr2_"
      },
      "source": [
        "**Original variables**"
      ]
    },
    {
      "cell_type": "code",
      "metadata": {
        "id": "Ro_-AvlkbnH2",
        "colab": {
          "base_uri": "https://localhost:8080/"
        },
        "outputId": "449a4f68-1ead-4646-b564-e3f2e3070a0b"
      },
      "source": [
        "num_words_ori = len(vocabulary)\n",
        "tweet_length_ori = len(tweets_train_new[0])\n",
        "vocab_ori = vocabulary\n",
        "print('num_classes =', num_classes)\n",
        "print('num_words_ori =', num_words_ori)\n",
        "print('tweet_length_ori =', tweet_length_ori)"
      ],
      "execution_count": null,
      "outputs": [
        {
          "output_type": "stream",
          "name": "stdout",
          "text": [
            "num_classes = 4\n",
            "num_words_ori = 13978\n",
            "tweet_length_ori = 52\n"
          ]
        }
      ]
    },
    {
      "cell_type": "code",
      "metadata": {
        "id": "yt7-v18fkAq3",
        "colab": {
          "base_uri": "https://localhost:8080/"
        },
        "outputId": "5f55c328-a884-40d9-b694-918418673499"
      },
      "source": [
        "X_train_ori = tweets_train_new\n",
        "y_train = np.asarray(vec_labels_train)\n",
        "\n",
        "X_val_ori = tweets_val_new\n",
        "y_val = np.asarray(vec_labels_val)\n",
        "\n",
        "X_test_ori = tweets_test_public\n",
        "# X_test_ori = tweets_test_private\n",
        "\n",
        "print(\"shape of X_train_ori:\", X_train_ori.shape)\n",
        "print(\"shape of y_train:\",y_train.shape)\n",
        "print(\"shape of X_val_ori:\",X_val_ori.shape)\n",
        "print(\"shape of y_val:\",y_val.shape)\n",
        "print(\"shape of X_test_ori:\",X_test_ori.shape)"
      ],
      "execution_count": null,
      "outputs": [
        {
          "output_type": "stream",
          "name": "stdout",
          "text": [
            "shape of X_train_ori: (7274, 52)\n",
            "shape of y_train: (7274, 4)\n",
            "shape of X_val_ori: (1284, 52)\n",
            "shape of y_val: (1284, 4)\n",
            "shape of X_test_ori: (4064, 52)\n"
          ]
        }
      ]
    },
    {
      "cell_type": "markdown",
      "metadata": {
        "id": "_q06NnCxjrLB"
      },
      "source": [
        "**Processed variables**"
      ]
    },
    {
      "cell_type": "code",
      "metadata": {
        "id": "AjGFJHKSinvf",
        "colab": {
          "base_uri": "https://localhost:8080/"
        },
        "outputId": "03cdbb66-9c86-40dc-c37d-bb803b454bf7"
      },
      "source": [
        "num_words = vocab_length\n",
        "tweet_length = len(vec_tweets_train[0])\n",
        "vocab = vocab\n",
        "print('num_classes =', num_classes)\n",
        "print('num_words =', num_words)\n",
        "print('tweet_length =', tweet_length)"
      ],
      "execution_count": null,
      "outputs": [
        {
          "output_type": "stream",
          "name": "stdout",
          "text": [
            "num_classes = 4\n",
            "num_words = 11654\n",
            "tweet_length = 52\n"
          ]
        }
      ]
    },
    {
      "cell_type": "code",
      "metadata": {
        "id": "Q1pinWDsIEw2",
        "colab": {
          "base_uri": "https://localhost:8080/"
        },
        "outputId": "4153a67a-891b-4f84-f02e-6ca9a589e006"
      },
      "source": [
        "X_train = vec_tweets_train\n",
        "y_train = np.asarray(vec_labels_train)\n",
        "\n",
        "X_val = vec_tweets_val\n",
        "y_val = np.asarray(vec_labels_val)\n",
        "\n",
        "X_test = vec_tweets_test_public\n",
        "# X_test = vec_tweets_test_private\n",
        "\n",
        "print(\"shape of X_train:\", X_train.shape)\n",
        "print(\"shape of y_train:\",y_train.shape)\n",
        "print(\"shape of X_val:\",X_val.shape)\n",
        "print(\"shape of y_val:\",y_val.shape)\n",
        "print(\"shape of X_test:\",X_test.shape)"
      ],
      "execution_count": null,
      "outputs": [
        {
          "output_type": "stream",
          "name": "stdout",
          "text": [
            "shape of X_train: (7274, 52)\n",
            "shape of y_train: (7274, 4)\n",
            "shape of X_val: (1284, 52)\n",
            "shape of y_val: (1284, 4)\n",
            "shape of X_test: (4064, 52)\n"
          ]
        }
      ]
    },
    {
      "cell_type": "markdown",
      "metadata": {
        "id": "RMd018-A-KpC"
      },
      "source": [
        "### Set up GloVe Embeding vector\n",
        "\n",
        "Because this is tweets dataset, I will use 200 dimensions pre-trained-on-tweets GloVe vectors. The file can be downloaded on [GloVe website](https://nlp.stanford.edu/projects/glove/)."
      ]
    },
    {
      "cell_type": "code",
      "metadata": {
        "id": "TVezST4t-PBS"
      },
      "source": [
        "# load glove file\n",
        "emb_dict = {}\n",
        "glove_dim = 200\n",
        "glove = open('glove.twitter.27B/glove.twitter.27B.200d.txt')\n",
        "\n",
        "# add embedding vectors to emb_dict\n",
        "for line in glove:\n",
        "    values = line.split()\n",
        "    word = values[0]\n",
        "    vector = np.asarray(values[1:], dtype='float32')\n",
        "    emb_dict[word] = vector\n",
        "\n",
        "glove.close()"
      ],
      "execution_count": null,
      "outputs": []
    },
    {
      "cell_type": "code",
      "metadata": {
        "id": "CzbWHqrry1lO"
      },
      "source": [
        "# create embedding matrix with GloVe weight\n",
        "def get_weight_matrix(num_words, vocab):\n",
        "  emb_matrix = np.zeros((num_words, glove_dim))\n",
        "\n",
        "  for w, i in vocab.items():    # only load the weight of existing words\n",
        "      if i < num_words:\n",
        "          vect = emb_dict.get(w)\n",
        "          if vect is not None:\n",
        "              emb_matrix[i] = vect\n",
        "      else:\n",
        "          break\n",
        "\n",
        "  return emb_matrix\n"
      ],
      "execution_count": null,
      "outputs": []
    },
    {
      "cell_type": "code",
      "metadata": {
        "id": "FX8xhD0p2M4Y"
      },
      "source": [
        "emb_matrix_ori = get_weight_matrix(num_words_ori, vocab_ori)\n",
        "\n",
        "emb_matrix = get_weight_matrix(num_words, vocab)"
      ],
      "execution_count": null,
      "outputs": []
    },
    {
      "cell_type": "code",
      "metadata": {
        "id": "q4M8i1b_0ezV"
      },
      "source": [
        "embedding_vector_length = 200"
      ],
      "execution_count": null,
      "outputs": []
    },
    {
      "cell_type": "code",
      "metadata": {
        "id": "7G56NYO02ib2"
      },
      "source": [
        "# create embedding_layer from GloVe weight\n",
        "embedding_layer_Glo_ori = Embedding(input_dim = num_words_ori,\n",
        "                            output_dim = embedding_vector_length,\n",
        "                            # embeddings_initializer=Constant(emb_matrix_ori),\n",
        "                            weights=[emb_matrix_ori],\n",
        "                            input_length=tweet_length_ori,\n",
        "                            trainable=False)\n",
        "\n",
        "embedding_layer_Glo = Embedding(input_dim = num_words,\n",
        "                            output_dim = glove_dim,\n",
        "                            # embeddings_initializer=Constant(emb_matrix),\n",
        "                            weights=[emb_matrix],\n",
        "                            input_length=tweet_length,\n",
        "                            trainable=False)\n",
        "\n"
      ],
      "execution_count": null,
      "outputs": []
    },
    {
      "cell_type": "markdown",
      "metadata": {
        "id": "HJWlobNKu6fM"
      },
      "source": [
        "---"
      ]
    },
    {
      "cell_type": "markdown",
      "metadata": {
        "id": "Pwq6jYZIrGgU"
      },
      "source": [
        "### NN models\n",
        "\n",
        "There are 6 models in total depeending on the training data:\n",
        "\n",
        "\n",
        "1.  Model using normal embeding layer with processed data\n",
        "2.  Model using normal embeding layer with original data\n",
        "3.  Model using GloVe embeding with processed data with `trainable = False`\n",
        "4.  Model using GloVe embeding with processed data with `trainable = True`\n",
        "5.  Model using GloVe embeding with original data with `trainable = False`\n",
        "6.  Model using GloVe embeding with original data with `trainable = True`\n",
        "\n",
        "\n",
        "**Note:** all models have the same architecture, the only difference lies on embeding weight and the training data\n"
      ]
    },
    {
      "cell_type": "markdown",
      "metadata": {
        "id": "wZLFeg1eTSP3"
      },
      "source": [
        "#### 1 Model using normal embeding layer with processed data"
      ]
    },
    {
      "cell_type": "code",
      "metadata": {
        "id": "143Ed_9LO_xf"
      },
      "source": [
        "embedding_vector_length = 200"
      ],
      "execution_count": null,
      "outputs": []
    },
    {
      "cell_type": "code",
      "metadata": {
        "id": "L8krsNkIZ389",
        "colab": {
          "base_uri": "https://localhost:8080/"
        },
        "outputId": "52ca9cbc-74dd-4a73-f709-6be0008acb20"
      },
      "source": [
        "from keras.layers import Activation\n",
        "\n",
        "model_1 = Sequential()\n",
        "\n",
        "model_1.add(Embedding(input_dim = num_words,\n",
        "                    output_dim = embedding_vector_length,\n",
        "                    input_length = tweet_length))\n",
        "\n",
        "model_1.add(Bidirectional(LSTM(128, return_sequences=True, recurrent_dropout=0.25, dropout=0.25,  kernel_regularizer=regularizers.l2(0.0001))))\n",
        "model_1.add(LSTM(64, return_sequences=True, recurrent_dropout=0.25, dropout=0.25,  kernel_regularizer=regularizers.l2(0.0001)))\n",
        "\n",
        "model_1.add(Conv1D(filters=64,\n",
        "                 kernel_size=2,\n",
        "                 padding='valid',\n",
        "                 strides=1,\n",
        "                 kernel_regularizer=regularizers.l2(0.0001)))\n",
        "model_1.add(BatchNormalization())\n",
        "model_1.add(Activation('relu'))\n",
        "model_1.add(MaxPooling1D(pool_size=2))\n",
        "\n",
        "model_1.add(Dropout(0.25))\n",
        "\n",
        "model_1.add(Conv1D(filters=64,\n",
        "                 kernel_size=2,\n",
        "                 padding='valid',\n",
        "                 strides=1,\n",
        "                 kernel_regularizer=regularizers.l2(0.0001)))\n",
        "model_1.add(BatchNormalization())\n",
        "model_1.add(Activation('relu'))\n",
        "\n",
        "\n",
        "model_1.add(Conv1D(filters=32,\n",
        "                 kernel_size=2,\n",
        "                 padding='valid',\n",
        "                 strides=1,\n",
        "                 kernel_regularizer=regularizers.l2(0.0001)))\n",
        "model_1.add(BatchNormalization())\n",
        "model_1.add(Activation('relu'))\n",
        "\n",
        "model_1.add(GlobalMaxPooling1D())\n",
        "\n",
        "model_1.add(Dense(32, activation='relu' , kernel_regularizer=regularizers.l2(0.0001) ))\n",
        "\n",
        "model_1.add(Dense(32, activation='relu', kernel_regularizer=regularizers.l2(0.0001) ))\n",
        "model_1.add(Dropout(0.25))\n",
        "\n",
        "model_1.add(Dense(16, activation='relu', kernel_regularizer=regularizers.l2(0.0001) ))\n",
        "\n",
        "model_1.add(Dense(num_classes, activation='softmax'))\n",
        "\n",
        "model_1.compile(loss='categorical_crossentropy',\n",
        "              optimizer='adam',\n",
        "              metrics=['accuracy'])\n",
        "\n",
        "model_1.summary()"
      ],
      "execution_count": null,
      "outputs": [
        {
          "output_type": "stream",
          "name": "stderr",
          "text": [
            "WARNING:tensorflow:Layer lstm will not use cuDNN kernels since it doesn't meet the criteria. It will use a generic GPU kernel as fallback when running on GPU.\n",
            "WARNING:tensorflow:Layer lstm will not use cuDNN kernels since it doesn't meet the criteria. It will use a generic GPU kernel as fallback when running on GPU.\n",
            "WARNING:tensorflow:Layer lstm will not use cuDNN kernels since it doesn't meet the criteria. It will use a generic GPU kernel as fallback when running on GPU.\n",
            "WARNING:tensorflow:Layer lstm_1 will not use cuDNN kernels since it doesn't meet the criteria. It will use a generic GPU kernel as fallback when running on GPU.\n"
          ]
        },
        {
          "output_type": "stream",
          "name": "stdout",
          "text": [
            "Model: \"sequential\"\n",
            "_________________________________________________________________\n",
            " Layer (type)                Output Shape              Param #   \n",
            "=================================================================\n",
            " embedding_2 (Embedding)     (None, 52, 200)           2330800   \n",
            "                                                                 \n",
            " bidirectional (Bidirectiona  (None, 52, 256)          336896    \n",
            " l)                                                              \n",
            "                                                                 \n",
            " lstm_1 (LSTM)               (None, 52, 64)            82176     \n",
            "                                                                 \n",
            " conv1d (Conv1D)             (None, 51, 64)            8256      \n",
            "                                                                 \n",
            " batch_normalization (BatchN  (None, 51, 64)           256       \n",
            " ormalization)                                                   \n",
            "                                                                 \n",
            " activation (Activation)     (None, 51, 64)            0         \n",
            "                                                                 \n",
            " max_pooling1d (MaxPooling1D  (None, 25, 64)           0         \n",
            " )                                                               \n",
            "                                                                 \n",
            " dropout (Dropout)           (None, 25, 64)            0         \n",
            "                                                                 \n",
            " conv1d_1 (Conv1D)           (None, 24, 64)            8256      \n",
            "                                                                 \n",
            " batch_normalization_1 (Batc  (None, 24, 64)           256       \n",
            " hNormalization)                                                 \n",
            "                                                                 \n",
            " activation_1 (Activation)   (None, 24, 64)            0         \n",
            "                                                                 \n",
            " conv1d_2 (Conv1D)           (None, 23, 32)            4128      \n",
            "                                                                 \n",
            " batch_normalization_2 (Batc  (None, 23, 32)           128       \n",
            " hNormalization)                                                 \n",
            "                                                                 \n",
            " activation_2 (Activation)   (None, 23, 32)            0         \n",
            "                                                                 \n",
            " global_max_pooling1d (Globa  (None, 32)               0         \n",
            " lMaxPooling1D)                                                  \n",
            "                                                                 \n",
            " dense (Dense)               (None, 32)                1056      \n",
            "                                                                 \n",
            " dense_1 (Dense)             (None, 32)                1056      \n",
            "                                                                 \n",
            " dropout_1 (Dropout)         (None, 32)                0         \n",
            "                                                                 \n",
            " dense_2 (Dense)             (None, 16)                528       \n",
            "                                                                 \n",
            " dense_3 (Dense)             (None, 4)                 68        \n",
            "                                                                 \n",
            "=================================================================\n",
            "Total params: 2,773,860\n",
            "Trainable params: 2,773,540\n",
            "Non-trainable params: 320\n",
            "_________________________________________________________________\n"
          ]
        }
      ]
    },
    {
      "cell_type": "code",
      "metadata": {
        "id": "ffIq3iMXTfWn",
        "colab": {
          "base_uri": "https://localhost:8080/"
        },
        "outputId": "55c91a4b-2661-46d3-9d6d-9efbf6f532a7"
      },
      "source": [
        "model_1.fit(X_train, y_train,\n",
        "                    epochs=20,\n",
        "                    batch_size=32,\n",
        "                    validation_data=(X_val, y_val),\n",
        "                    shuffle=True,\n",
        "                    callbacks=[\n",
        "                               earlyStopping,\n",
        "                               mcp_save,\n",
        "                               reduce_lr_loss,\n",
        "                               ]\n",
        "                    )\n"
      ],
      "execution_count": null,
      "outputs": [
        {
          "output_type": "stream",
          "name": "stdout",
          "text": [
            "Epoch 1/20\n",
            "228/228 [==============================] - 199s 793ms/step - loss: 1.4612 - accuracy: 0.2974 - val_loss: 1.4390 - val_accuracy: 0.2874 - lr: 0.0010\n",
            "Epoch 2/20\n",
            "228/228 [==============================] - ETA: 0s - loss: 1.3678 - accuracy: 0.3584\n",
            "Epoch 2: ReduceLROnPlateau reducing learning rate to 0.00010000000474974513.\n",
            "228/228 [==============================] - 170s 745ms/step - loss: 1.3678 - accuracy: 0.3584 - val_loss: 1.6782 - val_accuracy: 0.3092 - lr: 0.0010\n",
            "Epoch 3/20\n",
            "228/228 [==============================] - 166s 728ms/step - loss: 1.1517 - accuracy: 0.4720 - val_loss: 1.2159 - val_accuracy: 0.4377 - lr: 1.0000e-04\n",
            "Epoch 4/20\n",
            "228/228 [==============================] - 164s 721ms/step - loss: 1.1031 - accuracy: 0.4849 - val_loss: 1.1764 - val_accuracy: 0.4517 - lr: 1.0000e-04\n",
            "Epoch 5/20\n",
            "228/228 [==============================] - 163s 717ms/step - loss: 1.0714 - accuracy: 0.4999 - val_loss: 1.1679 - val_accuracy: 0.4564 - lr: 1.0000e-04\n",
            "Epoch 6/20\n",
            "228/228 [==============================] - 164s 720ms/step - loss: 1.0376 - accuracy: 0.5194 - val_loss: 1.1527 - val_accuracy: 0.4712 - lr: 1.0000e-04\n",
            "Epoch 7/20\n",
            "228/228 [==============================] - 165s 722ms/step - loss: 1.0051 - accuracy: 0.5635 - val_loss: 1.1375 - val_accuracy: 0.5171 - lr: 1.0000e-04\n",
            "Epoch 8/20\n",
            "228/228 [==============================] - 165s 723ms/step - loss: 0.9281 - accuracy: 0.6332 - val_loss: 1.0912 - val_accuracy: 0.5802 - lr: 1.0000e-04\n",
            "Epoch 9/20\n",
            "228/228 [==============================] - 165s 724ms/step - loss: 0.8171 - accuracy: 0.6860 - val_loss: 1.0607 - val_accuracy: 0.5888 - lr: 1.0000e-04\n",
            "Epoch 10/20\n",
            "228/228 [==============================] - 163s 713ms/step - loss: 0.7245 - accuracy: 0.7278 - val_loss: 0.9348 - val_accuracy: 0.6417 - lr: 1.0000e-04\n",
            "Epoch 11/20\n",
            "228/228 [==============================] - 164s 721ms/step - loss: 0.6479 - accuracy: 0.7615 - val_loss: 0.9032 - val_accuracy: 0.6729 - lr: 1.0000e-04\n",
            "Epoch 12/20\n",
            "228/228 [==============================] - 163s 717ms/step - loss: 0.5886 - accuracy: 0.7994 - val_loss: 0.8861 - val_accuracy: 0.6939 - lr: 1.0000e-04\n",
            "Epoch 13/20\n",
            "228/228 [==============================] - 164s 721ms/step - loss: 0.5320 - accuracy: 0.8276 - val_loss: 0.8729 - val_accuracy: 0.7040 - lr: 1.0000e-04\n",
            "Epoch 14/20\n",
            "228/228 [==============================] - ETA: 0s - loss: 0.4750 - accuracy: 0.8529\n",
            "Epoch 14: ReduceLROnPlateau reducing learning rate to 1.0000000474974514e-05.\n",
            "228/228 [==============================] - 164s 721ms/step - loss: 0.4750 - accuracy: 0.8529 - val_loss: 1.0426 - val_accuracy: 0.6340 - lr: 1.0000e-04\n",
            "Epoch 15/20\n",
            "228/228 [==============================] - ETA: 0s - loss: 0.4310 - accuracy: 0.8651\n",
            "Epoch 15: ReduceLROnPlateau reducing learning rate to 1.0000000656873453e-06.\n",
            "228/228 [==============================] - 164s 721ms/step - loss: 0.4310 - accuracy: 0.8651 - val_loss: 0.8736 - val_accuracy: 0.7002 - lr: 1.0000e-05\n",
            "Epoch 16/20\n",
            "228/228 [==============================] - ETA: 0s - loss: 0.4243 - accuracy: 0.8686\n",
            "Epoch 16: ReduceLROnPlateau reducing learning rate to 1.0000001111620805e-07.\n",
            "228/228 [==============================] - 163s 718ms/step - loss: 0.4243 - accuracy: 0.8686 - val_loss: 0.8827 - val_accuracy: 0.7064 - lr: 1.0000e-06\n",
            "Epoch 17/20\n",
            "228/228 [==============================] - ETA: 0s - loss: 0.4227 - accuracy: 0.8748\n",
            "Epoch 17: ReduceLROnPlateau reducing learning rate to 1.000000082740371e-08.\n",
            "228/228 [==============================] - 163s 717ms/step - loss: 0.4227 - accuracy: 0.8748 - val_loss: 0.8836 - val_accuracy: 0.7064 - lr: 1.0000e-07\n",
            "Epoch 18/20\n",
            "228/228 [==============================] - ETA: 0s - loss: 0.4161 - accuracy: 0.8731\n",
            "Epoch 18: ReduceLROnPlateau reducing learning rate to 1.000000082740371e-09.\n",
            "228/228 [==============================] - 164s 721ms/step - loss: 0.4161 - accuracy: 0.8731 - val_loss: 0.8852 - val_accuracy: 0.7064 - lr: 1.0000e-08\n",
            "Epoch 18: early stopping\n"
          ]
        },
        {
          "output_type": "execute_result",
          "data": {
            "text/plain": [
              "<keras.callbacks.History at 0x7fd0e66ba260>"
            ]
          },
          "metadata": {},
          "execution_count": 80
        }
      ]
    },
    {
      "cell_type": "code",
      "metadata": {
        "id": "cpYXN--NahR8",
        "colab": {
          "base_uri": "https://localhost:8080/",
          "height": 589
        },
        "outputId": "f057bb7d-6869-4101-8f46-1d14b0ab971f"
      },
      "source": [
        "model_1 = load_model('best_model.h5')\n",
        "print('Evaluation of model_1:',model_1.evaluate(x=X_val, y=y_val))"
      ],
      "execution_count": null,
      "outputs": [
        {
          "output_type": "error",
          "ename": "ValueError",
          "evalue": "ignored",
          "traceback": [
            "\u001b[0;31m---------------------------------------------------------------------------\u001b[0m",
            "\u001b[0;31mValueError\u001b[0m                                Traceback (most recent call last)",
            "\u001b[0;32m<ipython-input-82-c105b2edbf5f>\u001b[0m in \u001b[0;36m<cell line: 2>\u001b[0;34m()\u001b[0m\n\u001b[1;32m      1\u001b[0m \u001b[0mmodel_1\u001b[0m \u001b[0;34m=\u001b[0m \u001b[0mload_model\u001b[0m\u001b[0;34m(\u001b[0m\u001b[0;34m'best_model.h5'\u001b[0m\u001b[0;34m)\u001b[0m\u001b[0;34m\u001b[0m\u001b[0;34m\u001b[0m\u001b[0m\n\u001b[0;32m----> 2\u001b[0;31m \u001b[0mprint\u001b[0m\u001b[0;34m(\u001b[0m\u001b[0;34m'Evaluation of model_1:'\u001b[0m\u001b[0;34m,\u001b[0m\u001b[0mmodel_1\u001b[0m\u001b[0;34m.\u001b[0m\u001b[0mevaluate\u001b[0m\u001b[0;34m(\u001b[0m\u001b[0mx\u001b[0m\u001b[0;34m=\u001b[0m\u001b[0mX_val\u001b[0m\u001b[0;34m,\u001b[0m \u001b[0my\u001b[0m\u001b[0;34m=\u001b[0m\u001b[0my_val\u001b[0m\u001b[0;34m)\u001b[0m\u001b[0;34m)\u001b[0m\u001b[0;34m\u001b[0m\u001b[0;34m\u001b[0m\u001b[0m\n\u001b[0m",
            "\u001b[0;32m/usr/local/lib/python3.10/dist-packages/keras/utils/traceback_utils.py\u001b[0m in \u001b[0;36merror_handler\u001b[0;34m(*args, **kwargs)\u001b[0m\n\u001b[1;32m     68\u001b[0m             \u001b[0;31m# To get the full stack trace, call:\u001b[0m\u001b[0;34m\u001b[0m\u001b[0;34m\u001b[0m\u001b[0m\n\u001b[1;32m     69\u001b[0m             \u001b[0;31m# `tf.debugging.disable_traceback_filtering()`\u001b[0m\u001b[0;34m\u001b[0m\u001b[0;34m\u001b[0m\u001b[0m\n\u001b[0;32m---> 70\u001b[0;31m             \u001b[0;32mraise\u001b[0m \u001b[0me\u001b[0m\u001b[0;34m.\u001b[0m\u001b[0mwith_traceback\u001b[0m\u001b[0;34m(\u001b[0m\u001b[0mfiltered_tb\u001b[0m\u001b[0;34m)\u001b[0m \u001b[0;32mfrom\u001b[0m \u001b[0;32mNone\u001b[0m\u001b[0;34m\u001b[0m\u001b[0;34m\u001b[0m\u001b[0m\n\u001b[0m\u001b[1;32m     71\u001b[0m         \u001b[0;32mfinally\u001b[0m\u001b[0;34m:\u001b[0m\u001b[0;34m\u001b[0m\u001b[0;34m\u001b[0m\u001b[0m\n\u001b[1;32m     72\u001b[0m             \u001b[0;32mdel\u001b[0m \u001b[0mfiltered_tb\u001b[0m\u001b[0;34m\u001b[0m\u001b[0;34m\u001b[0m\u001b[0m\n",
            "\u001b[0;32m/usr/local/lib/python3.10/dist-packages/keras/engine/training.py\u001b[0m in \u001b[0;36mtf__test_function\u001b[0;34m(iterator)\u001b[0m\n\u001b[1;32m     13\u001b[0m                 \u001b[0;32mtry\u001b[0m\u001b[0;34m:\u001b[0m\u001b[0;34m\u001b[0m\u001b[0;34m\u001b[0m\u001b[0m\n\u001b[1;32m     14\u001b[0m                     \u001b[0mdo_return\u001b[0m \u001b[0;34m=\u001b[0m \u001b[0;32mTrue\u001b[0m\u001b[0;34m\u001b[0m\u001b[0;34m\u001b[0m\u001b[0m\n\u001b[0;32m---> 15\u001b[0;31m                     \u001b[0mretval_\u001b[0m \u001b[0;34m=\u001b[0m \u001b[0mag__\u001b[0m\u001b[0;34m.\u001b[0m\u001b[0mconverted_call\u001b[0m\u001b[0;34m(\u001b[0m\u001b[0mag__\u001b[0m\u001b[0;34m.\u001b[0m\u001b[0mld\u001b[0m\u001b[0;34m(\u001b[0m\u001b[0mstep_function\u001b[0m\u001b[0;34m)\u001b[0m\u001b[0;34m,\u001b[0m \u001b[0;34m(\u001b[0m\u001b[0mag__\u001b[0m\u001b[0;34m.\u001b[0m\u001b[0mld\u001b[0m\u001b[0;34m(\u001b[0m\u001b[0mself\u001b[0m\u001b[0;34m)\u001b[0m\u001b[0;34m,\u001b[0m \u001b[0mag__\u001b[0m\u001b[0;34m.\u001b[0m\u001b[0mld\u001b[0m\u001b[0;34m(\u001b[0m\u001b[0miterator\u001b[0m\u001b[0;34m)\u001b[0m\u001b[0;34m)\u001b[0m\u001b[0;34m,\u001b[0m \u001b[0;32mNone\u001b[0m\u001b[0;34m,\u001b[0m \u001b[0mfscope\u001b[0m\u001b[0;34m)\u001b[0m\u001b[0;34m\u001b[0m\u001b[0;34m\u001b[0m\u001b[0m\n\u001b[0m\u001b[1;32m     16\u001b[0m                 \u001b[0;32mexcept\u001b[0m\u001b[0;34m:\u001b[0m\u001b[0;34m\u001b[0m\u001b[0;34m\u001b[0m\u001b[0m\n\u001b[1;32m     17\u001b[0m                     \u001b[0mdo_return\u001b[0m \u001b[0;34m=\u001b[0m \u001b[0;32mFalse\u001b[0m\u001b[0;34m\u001b[0m\u001b[0;34m\u001b[0m\u001b[0m\n",
            "\u001b[0;31mValueError\u001b[0m: in user code:\n\n    File \"/usr/local/lib/python3.10/dist-packages/keras/engine/training.py\", line 1852, in test_function  *\n        return step_function(self, iterator)\n    File \"/usr/local/lib/python3.10/dist-packages/keras/engine/training.py\", line 1836, in step_function  **\n        outputs = model.distribute_strategy.run(run_step, args=(data,))\n    File \"/usr/local/lib/python3.10/dist-packages/keras/engine/training.py\", line 1824, in run_step  **\n        outputs = model.test_step(data)\n    File \"/usr/local/lib/python3.10/dist-packages/keras/engine/training.py\", line 1788, in test_step\n        y_pred = self(x, training=False)\n    File \"/usr/local/lib/python3.10/dist-packages/keras/utils/traceback_utils.py\", line 70, in error_handler\n        raise e.with_traceback(filtered_tb) from None\n    File \"/usr/local/lib/python3.10/dist-packages/keras/engine/input_spec.py\", line 298, in assert_input_compatibility\n        raise ValueError(\n\n    ValueError: Input 0 of layer \"sequential\" is incompatible with the layer: expected shape=(None, 11481), found shape=(None, 52)\n"
          ]
        }
      ]
    },
    {
      "cell_type": "code",
      "metadata": {
        "id": "Sc5Pj-M9AYd-",
        "colab": {
          "base_uri": "https://localhost:8080/",
          "height": 589
        },
        "outputId": "ed3498ad-a5ac-46e7-f45c-bcbbf046a51b"
      },
      "source": [
        "test1 = load_model('best_model.h5')\n",
        "print('Evaluation of model_1:',test1.evaluate(x=X_val, y=y_val))"
      ],
      "execution_count": null,
      "outputs": [
        {
          "output_type": "error",
          "ename": "ValueError",
          "evalue": "ignored",
          "traceback": [
            "\u001b[0;31m---------------------------------------------------------------------------\u001b[0m",
            "\u001b[0;31mValueError\u001b[0m                                Traceback (most recent call last)",
            "\u001b[0;32m<ipython-input-83-c7c0d11ae9d6>\u001b[0m in \u001b[0;36m<cell line: 2>\u001b[0;34m()\u001b[0m\n\u001b[1;32m      1\u001b[0m \u001b[0mtest1\u001b[0m \u001b[0;34m=\u001b[0m \u001b[0mload_model\u001b[0m\u001b[0;34m(\u001b[0m\u001b[0;34m'best_model.h5'\u001b[0m\u001b[0;34m)\u001b[0m\u001b[0;34m\u001b[0m\u001b[0;34m\u001b[0m\u001b[0m\n\u001b[0;32m----> 2\u001b[0;31m \u001b[0mprint\u001b[0m\u001b[0;34m(\u001b[0m\u001b[0;34m'Evaluation of model_1:'\u001b[0m\u001b[0;34m,\u001b[0m\u001b[0mtest1\u001b[0m\u001b[0;34m.\u001b[0m\u001b[0mevaluate\u001b[0m\u001b[0;34m(\u001b[0m\u001b[0mx\u001b[0m\u001b[0;34m=\u001b[0m\u001b[0mX_val\u001b[0m\u001b[0;34m,\u001b[0m \u001b[0my\u001b[0m\u001b[0;34m=\u001b[0m\u001b[0my_val\u001b[0m\u001b[0;34m)\u001b[0m\u001b[0;34m)\u001b[0m\u001b[0;34m\u001b[0m\u001b[0;34m\u001b[0m\u001b[0m\n\u001b[0m",
            "\u001b[0;32m/usr/local/lib/python3.10/dist-packages/keras/utils/traceback_utils.py\u001b[0m in \u001b[0;36merror_handler\u001b[0;34m(*args, **kwargs)\u001b[0m\n\u001b[1;32m     68\u001b[0m             \u001b[0;31m# To get the full stack trace, call:\u001b[0m\u001b[0;34m\u001b[0m\u001b[0;34m\u001b[0m\u001b[0m\n\u001b[1;32m     69\u001b[0m             \u001b[0;31m# `tf.debugging.disable_traceback_filtering()`\u001b[0m\u001b[0;34m\u001b[0m\u001b[0;34m\u001b[0m\u001b[0m\n\u001b[0;32m---> 70\u001b[0;31m             \u001b[0;32mraise\u001b[0m \u001b[0me\u001b[0m\u001b[0;34m.\u001b[0m\u001b[0mwith_traceback\u001b[0m\u001b[0;34m(\u001b[0m\u001b[0mfiltered_tb\u001b[0m\u001b[0;34m)\u001b[0m \u001b[0;32mfrom\u001b[0m \u001b[0;32mNone\u001b[0m\u001b[0;34m\u001b[0m\u001b[0;34m\u001b[0m\u001b[0m\n\u001b[0m\u001b[1;32m     71\u001b[0m         \u001b[0;32mfinally\u001b[0m\u001b[0;34m:\u001b[0m\u001b[0;34m\u001b[0m\u001b[0;34m\u001b[0m\u001b[0m\n\u001b[1;32m     72\u001b[0m             \u001b[0;32mdel\u001b[0m \u001b[0mfiltered_tb\u001b[0m\u001b[0;34m\u001b[0m\u001b[0;34m\u001b[0m\u001b[0m\n",
            "\u001b[0;32m/usr/local/lib/python3.10/dist-packages/keras/engine/training.py\u001b[0m in \u001b[0;36mtf__test_function\u001b[0;34m(iterator)\u001b[0m\n\u001b[1;32m     13\u001b[0m                 \u001b[0;32mtry\u001b[0m\u001b[0;34m:\u001b[0m\u001b[0;34m\u001b[0m\u001b[0;34m\u001b[0m\u001b[0m\n\u001b[1;32m     14\u001b[0m                     \u001b[0mdo_return\u001b[0m \u001b[0;34m=\u001b[0m \u001b[0;32mTrue\u001b[0m\u001b[0;34m\u001b[0m\u001b[0;34m\u001b[0m\u001b[0m\n\u001b[0;32m---> 15\u001b[0;31m                     \u001b[0mretval_\u001b[0m \u001b[0;34m=\u001b[0m \u001b[0mag__\u001b[0m\u001b[0;34m.\u001b[0m\u001b[0mconverted_call\u001b[0m\u001b[0;34m(\u001b[0m\u001b[0mag__\u001b[0m\u001b[0;34m.\u001b[0m\u001b[0mld\u001b[0m\u001b[0;34m(\u001b[0m\u001b[0mstep_function\u001b[0m\u001b[0;34m)\u001b[0m\u001b[0;34m,\u001b[0m \u001b[0;34m(\u001b[0m\u001b[0mag__\u001b[0m\u001b[0;34m.\u001b[0m\u001b[0mld\u001b[0m\u001b[0;34m(\u001b[0m\u001b[0mself\u001b[0m\u001b[0;34m)\u001b[0m\u001b[0;34m,\u001b[0m \u001b[0mag__\u001b[0m\u001b[0;34m.\u001b[0m\u001b[0mld\u001b[0m\u001b[0;34m(\u001b[0m\u001b[0miterator\u001b[0m\u001b[0;34m)\u001b[0m\u001b[0;34m)\u001b[0m\u001b[0;34m,\u001b[0m \u001b[0;32mNone\u001b[0m\u001b[0;34m,\u001b[0m \u001b[0mfscope\u001b[0m\u001b[0;34m)\u001b[0m\u001b[0;34m\u001b[0m\u001b[0;34m\u001b[0m\u001b[0m\n\u001b[0m\u001b[1;32m     16\u001b[0m                 \u001b[0;32mexcept\u001b[0m\u001b[0;34m:\u001b[0m\u001b[0;34m\u001b[0m\u001b[0;34m\u001b[0m\u001b[0m\n\u001b[1;32m     17\u001b[0m                     \u001b[0mdo_return\u001b[0m \u001b[0;34m=\u001b[0m \u001b[0;32mFalse\u001b[0m\u001b[0;34m\u001b[0m\u001b[0;34m\u001b[0m\u001b[0m\n",
            "\u001b[0;31mValueError\u001b[0m: in user code:\n\n    File \"/usr/local/lib/python3.10/dist-packages/keras/engine/training.py\", line 1852, in test_function  *\n        return step_function(self, iterator)\n    File \"/usr/local/lib/python3.10/dist-packages/keras/engine/training.py\", line 1836, in step_function  **\n        outputs = model.distribute_strategy.run(run_step, args=(data,))\n    File \"/usr/local/lib/python3.10/dist-packages/keras/engine/training.py\", line 1824, in run_step  **\n        outputs = model.test_step(data)\n    File \"/usr/local/lib/python3.10/dist-packages/keras/engine/training.py\", line 1788, in test_step\n        y_pred = self(x, training=False)\n    File \"/usr/local/lib/python3.10/dist-packages/keras/utils/traceback_utils.py\", line 70, in error_handler\n        raise e.with_traceback(filtered_tb) from None\n    File \"/usr/local/lib/python3.10/dist-packages/keras/engine/input_spec.py\", line 298, in assert_input_compatibility\n        raise ValueError(\n\n    ValueError: Input 0 of layer \"sequential\" is incompatible with the layer: expected shape=(None, 11481), found shape=(None, 52)\n"
          ]
        }
      ]
    },
    {
      "cell_type": "code",
      "metadata": {
        "id": "gGdNj6Q8ahSC"
      },
      "source": [
        "y_pred_1 = make_prediction(model_1,X_test)"
      ],
      "execution_count": null,
      "outputs": []
    },
    {
      "cell_type": "code",
      "metadata": {
        "id": "4BCZkfJgP-Tr"
      },
      "source": [
        "backend.clear_session()"
      ],
      "execution_count": null,
      "outputs": []
    },
    {
      "cell_type": "markdown",
      "metadata": {
        "id": "GFqsSZPrTZDL"
      },
      "source": [
        "#### 2 Model using normal embeding layer with original data"
      ]
    },
    {
      "cell_type": "code",
      "metadata": {
        "id": "APx-PFMCbPv3"
      },
      "source": [
        "from keras.layers import Activation\n",
        "\n",
        "model_2 = Sequential()\n",
        "\n",
        "model_2.add(Embedding(input_dim = num_words_ori,\n",
        "                    output_dim = embedding_vector_length,\n",
        "                    input_length = tweet_length_ori))\n",
        "\n",
        "model_2.add(Bidirectional(LSTM(128, return_sequences=True, recurrent_dropout=0.25, dropout=0.25,  kernel_regularizer=regularizers.l2(0.0001))))\n",
        "\n",
        "model_2.add(LSTM(64, return_sequences=True, recurrent_dropout=0.25, dropout=0.25,  kernel_regularizer=regularizers.l2(0.0001)))\n",
        "\n",
        "model_2.add(Conv1D(filters=64,\n",
        "                 kernel_size=2,\n",
        "                 padding='valid',\n",
        "                 strides=1,\n",
        "                 kernel_regularizer=regularizers.l2(0.0001)))\n",
        "model_2.add(BatchNormalization())\n",
        "model_2.add(Activation('relu'))\n",
        "model_2.add(MaxPooling1D(pool_size=2))\n",
        "\n",
        "model_2.add(Dropout(0.25))\n",
        "\n",
        "model_2.add(Conv1D(filters=32,\n",
        "                 kernel_size=2,\n",
        "                 padding='valid',\n",
        "                 strides=1,\n",
        "                 kernel_regularizer=regularizers.l2(0.0001)))\n",
        "model_2.add(BatchNormalization())\n",
        "model_2.add(Activation('relu'))\n",
        "\n",
        "\n",
        "model_2.add(Conv1D(filters=32,\n",
        "                 kernel_size=2,\n",
        "                 padding='valid',\n",
        "                 strides=1,\n",
        "                 kernel_regularizer=regularizers.l2(0.0001)))\n",
        "model_2.add(BatchNormalization())\n",
        "model_2.add(Activation('relu'))\n",
        "\n",
        "model_2.add(GlobalMaxPooling1D())\n",
        "\n",
        "model_2.add(Dense(32, activation='relu' , kernel_regularizer=regularizers.l2(0.0001) ))\n",
        "\n",
        "model_2.add(Dense(32, activation='relu', kernel_regularizer=regularizers.l2(0.0001) ))\n",
        "model_2.add(Dropout(0.25))\n",
        "\n",
        "model_2.add(Dense(16, activation='relu', kernel_regularizer=regularizers.l2(0.0001) ))\n",
        "\n",
        "model_2.add(Dense(num_classes, activation='softmax'))\n",
        "\n",
        "model_2.compile(loss='categorical_crossentropy',\n",
        "              optimizer='adam',\n",
        "              metrics=['accuracy'])\n",
        "\n",
        "model_2.summary()"
      ],
      "execution_count": null,
      "outputs": []
    },
    {
      "cell_type": "code",
      "metadata": {
        "id": "merhuXrjTf2p"
      },
      "source": [
        "model_2.compile(loss='categorical_crossentropy',\n",
        "              optimizer='adam',\n",
        "              metrics=['accuracy'])"
      ],
      "execution_count": null,
      "outputs": []
    },
    {
      "cell_type": "code",
      "metadata": {
        "id": "ETEmsXZTTfzo"
      },
      "source": [
        "model_2.fit(X_train_ori, y_train,\n",
        "                    epochs=20,\n",
        "                    batch_size=32,\n",
        "                    validation_data=(X_val_ori, y_val),\n",
        "                    shuffle=True,\n",
        "                    callbacks=[\n",
        "                               earlyStopping,\n",
        "                               mcp_save,\n",
        "                               reduce_lr_loss\n",
        "                               ])"
      ],
      "execution_count": null,
      "outputs": []
    },
    {
      "cell_type": "code",
      "metadata": {
        "id": "QfXsWM7A56el"
      },
      "source": [
        "model_2 = load_model('best_model.h5')\n",
        "print('Evaluation of model_2:', model_2.evaluate(x=X_val_ori, y=y_val))"
      ],
      "execution_count": null,
      "outputs": []
    },
    {
      "cell_type": "code",
      "metadata": {
        "id": "xYxvVsWpavcr"
      },
      "source": [
        "y_pred_2 = make_prediction(model_2,X_test_ori)"
      ],
      "execution_count": null,
      "outputs": []
    },
    {
      "cell_type": "code",
      "metadata": {
        "id": "KSukR8jlZQeg"
      },
      "source": [
        "backend.clear_session()"
      ],
      "execution_count": null,
      "outputs": []
    },
    {
      "cell_type": "markdown",
      "metadata": {
        "id": "HFV-pT9xVant"
      },
      "source": [
        "#### 3 Model using GloVe embeding with processed data"
      ]
    },
    {
      "cell_type": "code",
      "metadata": {
        "id": "gx3pVyUssXH_"
      },
      "source": [
        "from keras.layers import Activation\n",
        "\n",
        "model_3_1 = Sequential()\n",
        "\n",
        "model_3_1.add(embedding_layer_Glo)\n",
        "\n",
        "model_3_1.add(Bidirectional(LSTM(128, return_sequences=True, recurrent_dropout=0.25, dropout=0.25,  kernel_regularizer=regularizers.l2(0.0001))))\n",
        "\n",
        "model_3_1.add(LSTM(64, return_sequences=True, recurrent_dropout=0.25, dropout=0.25,  kernel_regularizer=regularizers.l2(0.0001)))\n",
        "\n",
        "model_3_1.add(Conv1D(filters=64,\n",
        "                 kernel_size=2,\n",
        "                 padding='valid',\n",
        "                 strides=1,\n",
        "                 kernel_regularizer=regularizers.l2(0.0001)))\n",
        "model_3_1.add(BatchNormalization())\n",
        "model_3_1.add(Activation('relu'))\n",
        "model_3_1.add(MaxPooling1D(pool_size=2))\n",
        "\n",
        "model_3_1.add(Dropout(0.25))\n",
        "\n",
        "model_3_1.add(Conv1D(filters=64,\n",
        "                 kernel_size=2,\n",
        "                 padding='valid',\n",
        "                 strides=1,\n",
        "                 kernel_regularizer=regularizers.l2(0.0001)))\n",
        "model_3_1.add(BatchNormalization())\n",
        "model_3_1.add(Activation('relu'))\n",
        "\n",
        "\n",
        "model_3_1.add(Conv1D(filters=32,\n",
        "                 kernel_size=2,\n",
        "                 padding='valid',\n",
        "                 strides=1,\n",
        "                 kernel_regularizer=regularizers.l2(0.0001)))\n",
        "model_3_1.add(BatchNormalization())\n",
        "model_3_1.add(Activation('relu'))\n",
        "\n",
        "model_3_1.add(GlobalMaxPooling1D())\n",
        "\n",
        "model_3_1.add(Dense(32, activation='relu' , kernel_regularizer=regularizers.l2(0.0001) ))\n",
        "\n",
        "model_3_1.add(Dense(32, activation='relu', kernel_regularizer=regularizers.l2(0.0001) ))\n",
        "model_3_1.add(Dropout(0.25))\n",
        "\n",
        "model_3_1.add(Dense(16, activation='relu', kernel_regularizer=regularizers.l2(0.0001) ))\n",
        "\n",
        "model_3_1.add(Dense(num_classes, activation='softmax'))\n",
        "\n",
        "model_3_1.compile(loss='categorical_crossentropy',\n",
        "              optimizer='adam',\n",
        "              metrics=['accuracy'])\n",
        "\n",
        "model_3_1.summary()"
      ],
      "execution_count": null,
      "outputs": []
    },
    {
      "cell_type": "code",
      "metadata": {
        "id": "a33fthyJnVTK"
      },
      "source": [
        "model_3_1.fit(X_train, y_train,\n",
        "                    epochs=20,\n",
        "                    batch_size=32,\n",
        "                    validation_data=(X_val, y_val),\n",
        "                    shuffle=True,\n",
        "                    callbacks=[\n",
        "                               earlyStopping,\n",
        "                               mcp_save,\n",
        "                               reduce_lr_loss\n",
        "                               ]\n",
        "                    )"
      ],
      "execution_count": null,
      "outputs": []
    },
    {
      "cell_type": "code",
      "metadata": {
        "id": "0vcGn105G5zi"
      },
      "source": [
        "model_3_1 = load_model('best_model.h5')\n",
        "print('Evaluation of model_3_1:',model_3_1.evaluate(x=X_val, y=y_val))"
      ],
      "execution_count": null,
      "outputs": []
    },
    {
      "cell_type": "code",
      "metadata": {
        "id": "_DIY0JORG4qy"
      },
      "source": [
        "y_pred_3_1 = make_prediction(model_3_1,X_test)"
      ],
      "execution_count": null,
      "outputs": []
    },
    {
      "cell_type": "code",
      "metadata": {
        "id": "RI1oBVuMRe1m"
      },
      "source": [
        "backend.clear_session()"
      ],
      "execution_count": null,
      "outputs": []
    },
    {
      "cell_type": "markdown",
      "metadata": {
        "id": "PhKZnaqZ8B9s"
      },
      "source": [
        "##### Set pre-trained embedding layer's trainable to True"
      ]
    },
    {
      "cell_type": "code",
      "metadata": {
        "id": "MoqxqjbU8MUd"
      },
      "source": [
        "embedding_layer_Glo_T = Embedding(input_dim = num_words,\n",
        "                            output_dim = glove_dim,\n",
        "                            weights=[emb_matrix],\n",
        "                            input_length=tweet_length,\n",
        "                            trainable=True)"
      ],
      "execution_count": null,
      "outputs": []
    },
    {
      "cell_type": "code",
      "metadata": {
        "id": "rS4nPpNE0CFI"
      },
      "source": [
        "from keras.layers import Activation\n",
        "\n",
        "model_3_2 = Sequential()\n",
        "\n",
        "model_3_2.add(embedding_layer_Glo_T)\n",
        "\n",
        "model_3_2.add(Bidirectional(LSTM(128, return_sequences=True, recurrent_dropout=0.25, dropout=0.25,  kernel_regularizer=regularizers.l2(0.0001))))\n",
        "\n",
        "model_3_2.add(LSTM(64, return_sequences=True, recurrent_dropout=0.25, dropout=0.25,  kernel_regularizer=regularizers.l2(0.0001)))\n",
        "\n",
        "model_3_2.add(Conv1D(filters=64,\n",
        "                 kernel_size=2,\n",
        "                 padding='valid',\n",
        "                 strides=1,\n",
        "                 kernel_regularizer=regularizers.l2(0.0001)))\n",
        "model_3_2.add(BatchNormalization())\n",
        "model_3_2.add(Activation('relu'))\n",
        "model_3_2.add(MaxPooling1D(pool_size=2))\n",
        "\n",
        "model_3_2.add(Dropout(0.25))\n",
        "\n",
        "model_3_2.add(Conv1D(filters=32,\n",
        "                 kernel_size=2,\n",
        "                 padding='valid',\n",
        "                 strides=1,\n",
        "                 kernel_regularizer=regularizers.l2(0.0001)))\n",
        "model_3_2.add(BatchNormalization())\n",
        "model_3_2.add(Activation('relu'))\n",
        "\n",
        "\n",
        "model_3_2.add(Conv1D(filters=32,\n",
        "                 kernel_size=2,\n",
        "                 padding='valid',\n",
        "                 strides=1,\n",
        "                 kernel_regularizer=regularizers.l2(0.0001)))\n",
        "model_3_2.add(BatchNormalization())\n",
        "model_3_2.add(Activation('relu'))\n",
        "\n",
        "model_3_2.add(GlobalMaxPooling1D())\n",
        "\n",
        "model_3_2.add(Dense(32, activation='relu' , kernel_regularizer=regularizers.l2(0.0001) ))\n",
        "\n",
        "model_3_2.add(Dense(32, activation='relu', kernel_regularizer=regularizers.l2(0.0001) ))\n",
        "model_3_2.add(Dropout(0.25))\n",
        "\n",
        "model_3_2.add(Dense(16, activation='relu', kernel_regularizer=regularizers.l2(0.0001) ))\n",
        "\n",
        "model_3_2.add(Dense(num_classes, activation='softmax'))\n",
        "\n",
        "model_3_2.compile(loss='categorical_crossentropy',\n",
        "              optimizer='adam',\n",
        "              metrics=['accuracy'])\n",
        "\n",
        "model_3_2.summary()"
      ],
      "execution_count": null,
      "outputs": []
    },
    {
      "cell_type": "code",
      "metadata": {
        "id": "-nwgJntaAJMA"
      },
      "source": [
        "model_3_2.fit(X_train, y_train,\n",
        "                    epochs=20,\n",
        "                    batch_size=32,\n",
        "                    validation_data=(X_val, y_val),\n",
        "                    shuffle=True,\n",
        "                    callbacks=[\n",
        "                               earlyStopping,\n",
        "                               mcp_save,\n",
        "                               reduce_lr_loss\n",
        "                               ]\n",
        "                    )"
      ],
      "execution_count": null,
      "outputs": []
    },
    {
      "cell_type": "code",
      "metadata": {
        "id": "P5--wR6Z7Bsi"
      },
      "source": [
        "model_3_2 = load_model('best_model.h5')\n",
        "print('Evaluation of model_3_2:',model_3_2.evaluate(x=X_val, y=y_val))"
      ],
      "execution_count": null,
      "outputs": []
    },
    {
      "cell_type": "code",
      "metadata": {
        "id": "2XzIjKxNCULW"
      },
      "source": [
        "y_pred_3_2 = make_prediction(model_3_2,X_test)"
      ],
      "execution_count": null,
      "outputs": []
    },
    {
      "cell_type": "code",
      "metadata": {
        "id": "RROHjaRSRjR9"
      },
      "source": [
        "backend.clear_session()"
      ],
      "execution_count": null,
      "outputs": []
    },
    {
      "cell_type": "markdown",
      "metadata": {
        "id": "wMY3biLHn8Ae"
      },
      "source": [
        "#### 4 Model using GloVe embeding with original data"
      ]
    },
    {
      "cell_type": "code",
      "metadata": {
        "id": "CF3Qib6Jnn5c"
      },
      "source": [
        "from keras.layers import Activation\n",
        "\n",
        "model_4_1 = Sequential()\n",
        "\n",
        "model_4_1.add(embedding_layer_Glo_ori)\n",
        "\n",
        "model_4_1.add(Bidirectional(LSTM(128, return_sequences=True, recurrent_dropout=0.25, dropout=0.25,  kernel_regularizer=regularizers.l2(0.0001))))\n",
        "\n",
        "model_4_1.add(LSTM(64, return_sequences=True, recurrent_dropout=0.25, dropout=0.25,  kernel_regularizer=regularizers.l2(0.0001)))\n",
        "\n",
        "model_4_1.add(Conv1D(filters=64,\n",
        "                 kernel_size=2,\n",
        "                 padding='valid',\n",
        "                 strides=1,\n",
        "                 kernel_regularizer=regularizers.l2(0.0001)))\n",
        "model_4_1.add(BatchNormalization())\n",
        "model_4_1.add(Activation('relu'))\n",
        "model_4_1.add(MaxPooling1D(pool_size=2))\n",
        "\n",
        "model_4_1.add(Conv1D(filters=64,\n",
        "                 kernel_size=2,\n",
        "                 padding='valid',\n",
        "                 strides=1,\n",
        "                 kernel_regularizer=regularizers.l2(0.0001)))\n",
        "model_4_1.add(BatchNormalization())\n",
        "model_4_1.add(Activation('relu'))\n",
        "\n",
        "model_4_1.add(Dropout(0.25))\n",
        "\n",
        "model_4_1.add(Conv1D(filters=32,\n",
        "                 kernel_size=2,\n",
        "                 padding='valid',\n",
        "                 strides=1,\n",
        "                 kernel_regularizer=regularizers.l2(0.0001)))\n",
        "model_4_1.add(BatchNormalization())\n",
        "model_4_1.add(Activation('relu'))\n",
        "\n",
        "model_4_1.add(GlobalMaxPooling1D())\n",
        "\n",
        "model_4_1.add(Dense(32, activation='relu' , kernel_regularizer=regularizers.l2(0.0001) ))\n",
        "\n",
        "model_4_1.add(Dense(32, activation='relu', kernel_regularizer=regularizers.l2(0.0001) ))\n",
        "model_4_1.add(Dropout(0.25))\n",
        "\n",
        "model_4_1.add(Dense(16, activation='relu', kernel_regularizer=regularizers.l2(0.0001) ))\n",
        "\n",
        "model_4_1.add(Dense(num_classes, activation='softmax'))\n",
        "\n",
        "model_4_1.compile(loss='categorical_crossentropy',\n",
        "              optimizer='adam',\n",
        "              metrics=['accuracy'])\n",
        "\n",
        "model_4_1.summary()"
      ],
      "execution_count": null,
      "outputs": []
    },
    {
      "cell_type": "code",
      "metadata": {
        "id": "0z6klp142WNR"
      },
      "source": [
        "model_4_1.compile(loss='categorical_crossentropy',\n",
        "              optimizer='adam',\n",
        "              metrics=['accuracy'])"
      ],
      "execution_count": null,
      "outputs": []
    },
    {
      "cell_type": "code",
      "metadata": {
        "id": "93Py2cQa2WCF"
      },
      "source": [
        "model_4_1.fit(X_train_ori, y_train,\n",
        "                    epochs=20,\n",
        "                    batch_size=32,\n",
        "                    validation_data=(X_val_ori, y_val),\n",
        "                    shuffle=True,\n",
        "                    callbacks=[\n",
        "                               earlyStopping,\n",
        "                               mcp_save,\n",
        "                               reduce_lr_loss\n",
        "                               ])"
      ],
      "execution_count": null,
      "outputs": []
    },
    {
      "cell_type": "code",
      "metadata": {
        "id": "Kz9PPgXsCCmk"
      },
      "source": [
        "model_4_1 = load_model('best_model.h5')\n",
        "print('Evaluation of model_4_1:',model_4_1.evaluate(x=X_val_ori, y=y_val))"
      ],
      "execution_count": null,
      "outputs": []
    },
    {
      "cell_type": "code",
      "metadata": {
        "id": "G52djSZxCGgF"
      },
      "source": [
        "y_pred_4_1 = make_prediction(model_4_1,X_test_ori)"
      ],
      "execution_count": null,
      "outputs": []
    },
    {
      "cell_type": "code",
      "metadata": {
        "id": "N946Zch0CKB4"
      },
      "source": [
        "backend.clear_session()"
      ],
      "execution_count": null,
      "outputs": []
    },
    {
      "cell_type": "markdown",
      "metadata": {
        "id": "W11p5TQtCYnY"
      },
      "source": [
        "##### Set pre-trained embedding layer's trainable to True"
      ]
    },
    {
      "cell_type": "code",
      "metadata": {
        "id": "bURKQdeDCYnZ"
      },
      "source": [
        "embedding_layer_Glo_ori_T = Embedding(input_dim = num_words_ori,\n",
        "                            output_dim = embedding_vector_length,\n",
        "                            weights=[emb_matrix_ori],\n",
        "                            input_length=tweet_length_ori,\n",
        "                            trainable=True)"
      ],
      "execution_count": null,
      "outputs": []
    },
    {
      "cell_type": "code",
      "metadata": {
        "id": "RngqXL4LCYnb"
      },
      "source": [
        "from keras.layers import Activation\n",
        "\n",
        "model_4_2 = Sequential()\n",
        "\n",
        "model_4_2.add(embedding_layer_Glo_ori_T)\n",
        "\n",
        "model_4_2.add(Bidirectional(LSTM(128, return_sequences=True, recurrent_dropout=0.25, dropout=0.25,  kernel_regularizer=regularizers.l2(0.0001))))\n",
        "\n",
        "model_4_2.add(LSTM(64, return_sequences=True, recurrent_dropout=0.25, dropout=0.25,  kernel_regularizer=regularizers.l2(0.0001)))\n",
        "\n",
        "model_4_2.add(Conv1D(filters=64,\n",
        "                 kernel_size=2,\n",
        "                 padding='valid',\n",
        "                 strides=1,\n",
        "                 kernel_regularizer=regularizers.l2(0.0001)))\n",
        "model_4_2.add(BatchNormalization())\n",
        "model_4_2.add(Activation('relu'))\n",
        "model_4_2.add(MaxPooling1D(pool_size=2))\n",
        "\n",
        "\n",
        "model_4_2.add(Conv1D(filters=64,\n",
        "                 kernel_size=2,\n",
        "                 padding='valid',\n",
        "                 strides=1,\n",
        "                 kernel_regularizer=regularizers.l2(0.0001)))\n",
        "model_4_2.add(BatchNormalization())\n",
        "model_4_2.add(Activation('relu'))\n",
        "\n",
        "model_4_2.add(Dropout(0.25))\n",
        "\n",
        "model_4_2.add(Conv1D(filters=32,\n",
        "                 kernel_size=2,\n",
        "                 padding='valid',\n",
        "                 strides=1,\n",
        "                 kernel_regularizer=regularizers.l2(0.0001)))\n",
        "model_4_2.add(BatchNormalization())\n",
        "model_4_2.add(Activation('relu'))\n",
        "\n",
        "model_4_2.add(GlobalMaxPooling1D())\n",
        "\n",
        "model_4_2.add(Dense(32, activation='relu' , kernel_regularizer=regularizers.l2(0.0001) ))\n",
        "\n",
        "model_4_2.add(Dense(32, activation='relu', kernel_regularizer=regularizers.l2(0.0001) ))\n",
        "model_4_2.add(Dropout(0.25))\n",
        "\n",
        "model_4_2.add(Dense(16, activation='relu', kernel_regularizer=regularizers.l2(0.0001) ))\n",
        "\n",
        "model_4_2.add(Dense(num_classes, activation='softmax'))\n",
        "\n",
        "model_4_2.compile(loss='categorical_crossentropy',\n",
        "              optimizer='adam',\n",
        "              metrics=['accuracy'])\n",
        "\n",
        "model_4_2.summary()"
      ],
      "execution_count": null,
      "outputs": []
    },
    {
      "cell_type": "code",
      "metadata": {
        "id": "ixkuQQKzCYne"
      },
      "source": [
        "model_4_2.fit(X_train_ori, y_train,\n",
        "                          epochs=20,\n",
        "                          batch_size=32,\n",
        "                          validation_data=(X_val_ori, y_val),\n",
        "                          shuffle=True,\n",
        "                          callbacks=[\n",
        "                                      earlyStopping,\n",
        "                                      mcp_save,\n",
        "                                      reduce_lr_loss\n",
        "                                      ])"
      ],
      "execution_count": null,
      "outputs": []
    },
    {
      "cell_type": "code",
      "metadata": {
        "id": "kbffoP_SCYng"
      },
      "source": [
        "model_4_2 = load_model('best_model.h5')\n",
        "print('Evaluation of model_4_2:',model_4_2.evaluate(x=X_val_ori, y=y_val))"
      ],
      "execution_count": null,
      "outputs": []
    },
    {
      "cell_type": "code",
      "metadata": {
        "id": "HlvoVvz9CYnj"
      },
      "source": [
        "y_pred_4_2 = make_prediction(model_4_2,X_test_ori)"
      ],
      "execution_count": null,
      "outputs": []
    },
    {
      "cell_type": "code",
      "metadata": {
        "id": "wVXJL4SxCYnm"
      },
      "source": [
        "backend.clear_session()"
      ],
      "execution_count": null,
      "outputs": []
    },
    {
      "cell_type": "markdown",
      "metadata": {
        "id": "r0vvoNEgF5tO"
      },
      "source": [
        "## Observation\n",
        "\n",
        "The model trains on processed data using GloVe pre-trained embeding vetor with option `trainable = True` shows the highest validation accuracy score, at **0.799**.\n",
        "\n",
        "However, it is just slightly higher than *0.785* of LinearSVC model from Conventional machine learning.\n",
        "\n",
        "Between the Neuron Networks models, models trains on original data give lower valuation accuracy than models trains on processed data. It proves that removing special characters and `<words>` does improve the performance of the models\n",
        "\n"
      ]
    },
    {
      "cell_type": "markdown",
      "metadata": {
        "id": "N09xfojEaj9N"
      },
      "source": [
        "---\n",
        "# Discussion of Model Performance and Implementation"
      ]
    },
    {
      "cell_type": "markdown",
      "metadata": {
        "id": "zEof9NeAawh1"
      },
      "source": [
        "Comparing my final conventional ML and deep learning models:\n",
        "* The best conventional model is LinearSVC with 0785 accuracy score on validation set.\n",
        "  * This model gives 0.528 accuracy score on public test set.\n",
        "  * While this model develop good accuracy score on validation set, the score on public test set is not lower than that of the deep ML model. This shows the lack of flexibility of conventional ML.\n",
        "\n",
        "* The best deep machine learning model is the model  usinng Glove embedinng with processed data *(model 3.2)* with 0.799 accuracy score on validation set.\n",
        "  * This model gives 0.603 accuracy score on public test set and 0.64 on private test set.\n",
        "  * Although the accuracy score of this model on the validation set is just slightly better than the LinearSVC model's, the accuracy score on the public test set is 7.5% higher. This shows a better flexibility of deep ML.\n",
        "  * The accuracy score on public test set is not far apart from the accuracy score on private test set, which proves that two testing data are not very different from each other.\n",
        "\n",
        "Unfortunately, overal, the accuracy score of all models is not higher than 0.8 on validation set and even worse on test set. Personally, these score might be better if the models are feed with larger training data.\n",
        "\n",
        "\n",
        "\n",
        "\n"
      ]
    },
    {
      "cell_type": "markdown",
      "metadata": {
        "id": "G0mcw7kqlApu"
      },
      "source": [
        "---\n",
        "# Creating csv to upload to Kaggle"
      ]
    },
    {
      "cell_type": "markdown",
      "metadata": {
        "id": "d2yrFJVAapsg"
      },
      "source": [
        "**For public test set**"
      ]
    },
    {
      "cell_type": "code",
      "metadata": {
        "id": "b-ir805Bk9J4"
      },
      "source": [
        "# set predictions public\n",
        "predictions = y_test_pred_svc\n",
        "\n",
        "# id from 1\n",
        "id = np.arange(1, len(predictions)+1)\n",
        "\n",
        "submission = pd.DataFrame({'ID':id, 'Prediction':predictions})\n",
        "\n",
        "print(submission.head())\n",
        "\n",
        "filename = '45817006-deep.csv'\n",
        "\n",
        "submission.to_csv(filename,index=False)\n",
        "\n",
        "print('Saved file: ' + filename)"
      ],
      "execution_count": null,
      "outputs": []
    },
    {
      "cell_type": "markdown",
      "metadata": {
        "id": "9zLMONnnauO8"
      },
      "source": [
        "**For private test set**"
      ]
    },
    {
      "cell_type": "code",
      "metadata": {
        "id": "y7l4lunZeceM"
      },
      "source": [
        "# set predictions private\n",
        "predictions = y_pred_3_2\n",
        "\n",
        "# id from 0\n",
        "id = np.arange(0, len(predictions))\n",
        "\n",
        "submission = pd.DataFrame({'ID':id, 'Prediction':predictions})\n",
        "\n",
        "print(submission.head())\n",
        "\n",
        "filename = '45817006-private.csv'\n",
        "\n",
        "submission.to_csv(filename,index=False)\n",
        "\n",
        "print('Saved file: ' + filename)"
      ],
      "execution_count": null,
      "outputs": []
    },
    {
      "cell_type": "code",
      "metadata": {
        "id": "GdgyfWKwzTks"
      },
      "source": [],
      "execution_count": null,
      "outputs": []
    }
  ]
}